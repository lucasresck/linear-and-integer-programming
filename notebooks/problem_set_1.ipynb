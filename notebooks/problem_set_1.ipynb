{
 "cells": [
  {
   "cell_type": "markdown",
   "id": "biological-portugal",
   "metadata": {},
   "source": [
    "# Problem set 1\n",
    "\n",
    "- 1.2 Linear programs\n",
    "    - Exercises 2, 6 and 8\n",
    "- 1.3 Integer programs\n",
    "    - Exercises "
   ]
  },
  {
   "cell_type": "markdown",
   "id": "opening-consensus",
   "metadata": {},
   "source": [
    "## Setup\n",
    "\n",
    "We import the necessary libraries."
   ]
  },
  {
   "cell_type": "code",
   "execution_count": 1,
   "id": "higher-impossible",
   "metadata": {},
   "outputs": [],
   "source": [
    "using Cbc, JuMP"
   ]
  },
  {
   "cell_type": "markdown",
   "id": "touched-sellers",
   "metadata": {},
   "source": [
    "## 1.2 Linear programs\n",
    "\n",
    "### Exercise 2\n",
    "\n",
    "*MUCOW (Milk Undertakings, C and O, Waterloo) owns a herd of Holstein cows and a herd of Jersey cows.\n",
    "For each herd, the total number of litres produced each day, and milk-fat content (as a percentage) are as\n",
    "follows:*\n",
    "\n",
    "|  | Litres produced | Percent milk-fat |\n",
    "| :-: | :-: | :-: |\n",
    "| Holstein | 500 | 3.7\n",
    "| Jersey | 250 | 4.9\n",
    "\n",
    "*The fat is split off and blended again to create various products.\n",
    "For each product, the volume, required milk-fat percentage, and profit are as follows.\n",
    "In particular, the milk-fat percentage must exactly equal what is specified.*\n",
    "\n",
    "|  | Skimmed milk | 2% | Whole milk | Table cream | Whipping cream |\n",
    "| :-: | :-: | :-: | :-: | :-: | :-: |\n",
    "| Volume (litres) | 2 | 2 | 2 | 0.6 | 0.3 |\n",
    "| Milk-fat requirement | 0% | 2% | 4% | 15% | 45% |\n",
    "| Profit ($) | 0.1 | 0.15 | 0.2 | 0.5 | 1.2 |"
   ]
  },
  {
   "cell_type": "markdown",
   "id": "figured-image",
   "metadata": {},
   "source": [
    "***(a)*** *Formulate as an LP the problem of deciding how many items of each type to produce, so that the total profit is maximized.\n",
    "Don’t worry about fractional numbers of items.\n",
    "Write your formulation in matrix notation.*"
   ]
  },
  {
   "cell_type": "markdown",
   "id": "round-commissioner",
   "metadata": {},
   "source": [
    "Consider $x_1, \\cdots, x_5$ the number of skimmed milk, ..., whipping cream, respectively.\n",
    "We want to maximize the profit:\n",
    "\n",
    "$$\\text{max } 0.1 x_1 + 0.15 x_2 + 0.2 x_3 + 0.5 x_4 + 1.2 x_5$$\n",
    "\n",
    "If we split the milk and fat, we have $30.75 L$ of fat and $719.25 L$ of \"pure\" milk.\n",
    "So we write the constraints for fat and milk separately:\n",
    "\n",
    "$$0 x_1 + 0.04 x_2 + 0.08 x_3 + 0.09 x_4 + 0.135 x_5 \\le 30.75$$\n",
    "$$2 x_1 + 1.96 x_2 + 1.92 x_3 + 0.51 x_4 + 0.165 x_5 \\le 719.25$$\n",
    "\n",
    "That is, if we solve this linear problem, we have how many of each product we can produce with the possible milk and fat, in the correct proportions milk-fat.\n",
    "\n",
    "Let's solve this:"
   ]
  },
  {
   "cell_type": "code",
   "execution_count": 2,
   "id": "handy-photograph",
   "metadata": {
    "scrolled": true
   },
   "outputs": [
    {
     "name": "stdout",
     "output_type": "stream",
     "text": [
      "m = A JuMP Model\n",
      "Maximization problem with:\n",
      "Variables: 5\n",
      "Objective function type: GenericAffExpr{Float64,VariableRef}\n",
      "`GenericAffExpr{Float64,VariableRef}`-in-`MathOptInterface.LessThan{Float64}`: 2 constraints\n",
      "`VariableRef`-in-`MathOptInterface.GreaterThan{Float64}`: 5 constraints\n",
      "Model mode: AUTOMATIC\n",
      "CachingOptimizer state: EMPTY_OPTIMIZER\n",
      "Solver name: COIN Branch-and-Cut (Cbc)\n",
      "Names registered in the model: x\n"
     ]
    },
    {
     "data": {
      "text/latex": [
       "$$ \\begin{alignat*}{1}\\max\\quad & 0.1 x_{1} + 0.15 x_{2} + 0.2 x_{3} + 0.5 x_{4} + 1.2 x_{5}\\\\\n",
       "\\text{Subject to} \\quad & 0.04 x_{2} + 0.08 x_{3} + 0.09 x_{4} + 0.135 x_{5} \\leq 30.75\\\\\n",
       " & 2 x_{1} + 1.96 x_{2} + 1.92 x_{3} + 0.51 x_{4} + 0.165 x_{5} \\leq 719.25\\\\\n",
       " & x_{1} \\geq 0.0\\\\\n",
       " & x_{2} \\geq 0.0\\\\\n",
       " & x_{3} \\geq 0.0\\\\\n",
       " & x_{4} \\geq 0.0\\\\\n",
       " & x_{5} \\geq 0.0\\\\\n",
       "\\end{alignat*}\n",
       " $$"
      ],
      "text/plain": [
       "A JuMP Model\n",
       "Maximization problem with:\n",
       "Variables: 5\n",
       "Objective function type: GenericAffExpr{Float64,VariableRef}\n",
       "`GenericAffExpr{Float64,VariableRef}`-in-`MathOptInterface.LessThan{Float64}`: 2 constraints\n",
       "`VariableRef`-in-`MathOptInterface.GreaterThan{Float64}`: 5 constraints\n",
       "Model mode: AUTOMATIC\n",
       "CachingOptimizer state: EMPTY_OPTIMIZER\n",
       "Solver name: COIN Branch-and-Cut (Cbc)\n",
       "Names registered in the model: x"
      ]
     },
     "execution_count": 2,
     "metadata": {},
     "output_type": "execute_result"
    }
   ],
   "source": [
    "m = Model(with_optimizer(Cbc.Optimizer, logLevel = 0))\n",
    "\n",
    "# Number of each product\n",
    "@variable(m, x[1:5] >= 0)\n",
    "\n",
    "# Maximize the profit\n",
    "@objective(m, Max, 0.1x[1] + 0.15x[2] + 0.2x[3] + 0.5x[4] + 1.2x[5])\n",
    "\n",
    "# Constraint of fat\n",
    "@constraint(m, 0.04x[2] + 0.08x[3] + 0.09x[4] + 0.135x[5] <= 30.75)\n",
    "# Constraint of milk\n",
    "@constraint(m, 2x[1] + 1.96x[2] + 1.92x[3] + 0.51x[4] + 0.165x[5] <= 719.25)\n",
    "\n",
    "@show m"
   ]
  },
  {
   "cell_type": "code",
   "execution_count": 3,
   "id": "invisible-perfume",
   "metadata": {},
   "outputs": [
    {
     "name": "stdout",
     "output_type": "stream",
     "text": [
      "\n",
      "Profit: 307.4166666666666\n",
      "x 1 qty: 340.8333333333333\n",
      "x 2 qty: 0.0\n",
      "x 3 qty: 0.0\n",
      "x 4 qty: 0.0\n",
      "x 5 qty: 227.77777777777774\n"
     ]
    }
   ],
   "source": [
    "optimize!(m)\n",
    "\n",
    "println(\"\\nProfit: \", objective_value(m))\n",
    "for i=1:5\n",
    "    println(\"x $i qty: \", value(x[i]))\n",
    "end"
   ]
  },
  {
   "cell_type": "markdown",
   "id": "private-documentary",
   "metadata": {},
   "source": [
    "So the solution is to use all fat for whipping cream and use the rest of the milk to produce skimmed milk."
   ]
  },
  {
   "cell_type": "markdown",
   "id": "animal-duplicate",
   "metadata": {},
   "source": [
    "***(b)*** *MUCOW is told of a regulation change: 'skimmed milk' can now contain anything up to 0.1\\% milk-fat, but no more.\n",
    "How does the formulation of the problem change? Note the resulting formulation should also be an LP.*"
   ]
  },
  {
   "cell_type": "markdown",
   "id": "documentary-chamber",
   "metadata": {},
   "source": [
    "We could change the above approach to include a variable with the milk-fat percentage for skimmed milk, but the problem would not be linear.\n",
    "Instead, we create another problem.\n",
    "We try to maximize the same objective function, but we include variables $M_1, \\cdots, M_5, f_1, \\cdots, f_5$ for the \"pure\" milk and fat used by each kind of product.\n",
    "We create the restrictions of milk and fat:\n",
    "\n",
    "$$\\sum_{i = 1}^5 M_i \\le 719.25, \\ \\ \\sum_{i = 1}^5 f_i \\le 30.75$$\n",
    "\n",
    "The milk-fat requirements must be satisfied:\n",
    "\n",
    "$$0 \\le \\frac{f_1}{M_1 + f_1} \\le 0.001$$\n",
    "$$\\frac{f_2}{M_2 + f_2} = 0.02, \\ \\ \\frac{f_3}{M_3 + f_3} = 0.04, \\ \\ \\frac{f_4}{M_4 + f_4} = 0.15, \\ \\ \\frac{f_5}{M_5 + f_5} = 0.45$$\n",
    "\n",
    "We also calculate the number of each product:\n",
    "\n",
    "$$x_1 = \\frac{M_1 + f_1}{2}, \\ \\ x_2 = \\frac{M_2 + f_2}{2}, \\ \\ x_3 = \\frac{M_3 + f_3}{2}, \\ \\ x_4 = \\frac{M_4 + f_4}{0.6}, \\ \\ x_5 = \\frac{M_5 + f_5}{0.3}$$"
   ]
  },
  {
   "cell_type": "code",
   "execution_count": 4,
   "id": "norwegian-prairie",
   "metadata": {
    "scrolled": true
   },
   "outputs": [
    {
     "name": "stdout",
     "output_type": "stream",
     "text": [
      "m = A JuMP Model\n",
      "Maximization problem with:\n",
      "Variables: 15\n",
      "Objective function type: GenericAffExpr{Float64,VariableRef}\n",
      "`GenericAffExpr{Float64,VariableRef}`-in-`MathOptInterface.EqualTo{Float64}`: 9 constraints\n",
      "`GenericAffExpr{Float64,VariableRef}`-in-`MathOptInterface.LessThan{Float64}`: 3 constraints\n",
      "`VariableRef`-in-`MathOptInterface.GreaterThan{Float64}`: 15 constraints\n",
      "Model mode: AUTOMATIC\n",
      "CachingOptimizer state: EMPTY_OPTIMIZER\n",
      "Solver name: COIN Branch-and-Cut (Cbc)\n",
      "Names registered in the model: M, f, x\n"
     ]
    },
    {
     "data": {
      "text/latex": [
       "$$ \\begin{alignat*}{1}\\max\\quad & 0.1 x_{1} + 0.15 x_{2} + 0.2 x_{3} + 0.5 x_{4} + 1.2 x_{5}\\\\\n",
       "\\text{Subject to} \\quad & -0.02 M_{2} + 0.98 f_{2} = 0.0\\\\\n",
       " & -0.04 M_{3} + 0.96 f_{3} = 0.0\\\\\n",
       " & -0.15 M_{4} + 0.85 f_{4} = 0.0\\\\\n",
       " & -0.45 M_{5} + 0.55 f_{5} = 0.0\\\\\n",
       " & 2 x_{1} - M_{1} - f_{1} = 0.0\\\\\n",
       " & 2 x_{2} - M_{2} - f_{2} = 0.0\\\\\n",
       " & 2 x_{3} - M_{3} - f_{3} = 0.0\\\\\n",
       " & 0.6 x_{4} - M_{4} - f_{4} = 0.0\\\\\n",
       " & 0.3 x_{5} - M_{5} - f_{5} = 0.0\\\\\n",
       " & f_{1} + f_{2} + f_{3} + f_{4} + f_{5} \\leq 30.75\\\\\n",
       " & M_{1} + M_{2} + M_{3} + M_{4} + M_{5} \\leq 719.25\\\\\n",
       " & -0.001 M_{1} + 0.999 f_{1} \\leq 0.0\\\\\n",
       " & x_{1} \\geq 0.0\\\\\n",
       " & x_{2} \\geq 0.0\\\\\n",
       " & x_{3} \\geq 0.0\\\\\n",
       " & x_{4} \\geq 0.0\\\\\n",
       " & x_{5} \\geq 0.0\\\\\n",
       " & M_{1} \\geq 0.0\\\\\n",
       " & M_{2} \\geq 0.0\\\\\n",
       " & M_{3} \\geq 0.0\\\\\n",
       " & M_{4} \\geq 0.0\\\\\n",
       " & M_{5} \\geq 0.0\\\\\n",
       " & f_{1} \\geq 0.0\\\\\n",
       " & f_{2} \\geq 0.0\\\\\n",
       " & f_{3} \\geq 0.0\\\\\n",
       " & f_{4} \\geq 0.0\\\\\n",
       " & f_{5} \\geq 0.0\\\\\n",
       "\\end{alignat*}\n",
       " $$"
      ],
      "text/plain": [
       "A JuMP Model\n",
       "Maximization problem with:\n",
       "Variables: 15\n",
       "Objective function type: GenericAffExpr{Float64,VariableRef}\n",
       "`GenericAffExpr{Float64,VariableRef}`-in-`MathOptInterface.EqualTo{Float64}`: 9 constraints\n",
       "`GenericAffExpr{Float64,VariableRef}`-in-`MathOptInterface.LessThan{Float64}`: 3 constraints\n",
       "`VariableRef`-in-`MathOptInterface.GreaterThan{Float64}`: 15 constraints\n",
       "Model mode: AUTOMATIC\n",
       "CachingOptimizer state: EMPTY_OPTIMIZER\n",
       "Solver name: COIN Branch-and-Cut (Cbc)\n",
       "Names registered in the model: M, f, x"
      ]
     },
     "execution_count": 4,
     "metadata": {},
     "output_type": "execute_result"
    }
   ],
   "source": [
    "m = Model(with_optimizer(Cbc.Optimizer, logLevel = 0))\n",
    "\n",
    "# Number of each product\n",
    "@variable(m, x[1:5] >= 0)\n",
    "# Amount of milk\n",
    "@variable(m, M[1:5] >= 0)\n",
    "# Amount of fat\n",
    "@variable(m, f[1:5] >= 0)\n",
    "\n",
    "# Maximize the profit\n",
    "@objective(m, Max, 0.1x[1] + 0.15x[2] + 0.2x[3] + 0.5x[4] + 1.2x[5])\n",
    "\n",
    "# Constraint of fat\n",
    "@constraint(m, sum(f[1:5]) <= 30.75)\n",
    "# Constraint of milk\n",
    "@constraint(m, sum(M[1:5]) <= 719.25)\n",
    "# Milk-fat requirements\n",
    "@constraint(m, f[1] <= 0.001M[1] + 0.001f[1])\n",
    "@constraint(m, f[2] == 0.02M[2] + 0.02f[2])\n",
    "@constraint(m, f[3] == 0.04M[3] + 0.04f[3])\n",
    "@constraint(m, f[4] == 0.15M[4] + 0.15f[4])\n",
    "@constraint(m, f[5] == 0.45M[5] + 0.45f[5])\n",
    "# Number of each product\n",
    "@constraint(m, 2x[1] == M[1] + f[1])\n",
    "@constraint(m, 2x[2] == M[2] + f[2])\n",
    "@constraint(m, 2x[3] == M[3] + f[3])\n",
    "@constraint(m, 0.6x[4] == M[4] + f[4])\n",
    "@constraint(m, 0.3x[5] == M[5] + f[5])\n",
    "\n",
    "@show m"
   ]
  },
  {
   "cell_type": "code",
   "execution_count": 5,
   "id": "affecting-acceptance",
   "metadata": {},
   "outputs": [
    {
     "name": "stdout",
     "output_type": "stream",
     "text": [
      "\n",
      "Profit: 307.41666666666663\n",
      "x 1 qty: 340.8333333333333\n",
      "x 2 qty: 0.0\n",
      "x 3 qty: 0.0\n",
      "x 4 qty: 0.0\n",
      "x 5 qty: 227.77777777777777\n",
      "Milk-fat 1: 0.0\n"
     ]
    }
   ],
   "source": [
    "optimize!(m)\n",
    "\n",
    "println(\"\\nProfit: \", objective_value(m))\n",
    "for i=1:5\n",
    "    println(\"x $i qty: \", value(x[i]))\n",
    "end\n",
    "println(\"Milk-fat 1: \", value(f[1])/(value(f[1]) + value(M[1])))"
   ]
  },
  {
   "cell_type": "markdown",
   "id": "ecological-saudi",
   "metadata": {},
   "source": [
    "The solution to the last exercise was to use all fat for whipping cream and use the rest of the milk to produce skimmed milk.\n",
    "The same here!\n",
    "\n",
    "With respect to the last exercise, we allowed the sollution to give some fat to skimmed milk.\n",
    "For each whipping cream, it is necessary $0.135 L$ of fat to gain $\\$1.2$.\n",
    "It is not worth it to use $0.1 L$ of fat to gain $\\$0.1$ with skimmed milk."
   ]
  },
  {
   "cell_type": "markdown",
   "id": "hybrid-check",
   "metadata": {},
   "source": [
    "## Exercise 6\n",
    "\n",
    "We are given an $m$ by $n$ matrix $A$ and a vector $b$ in $\\mathbb{R}^m$, for which the system $Ax = b$ has no solution.\n",
    "Here is an example:\n",
    "\n",
    "$$\\begin{cases}\n",
    "    2x_1 - x_2 = -1 \\\\\n",
    "    x_1 + x_2 = 1 \\\\\n",
    "    x_1 + 3x_2 = 4 \\\\\n",
    "    -2x_1 + 4x_2 = 3\n",
    "\\end{cases}$$\n",
    "\n",
    "We are interested in finding a vector $x \\in \\mathbb{R}^n$ that \"comes close\" to solving the system.\n",
    "Namely, we want to find an $x \\in \\mathbb{R}^n$ whose *deviation* is mininum, and where the deviation of $x$ is defined to be\n",
    "\n",
    "$$\\sum_{i=1}^n\\left|b_i - \\sum_{j=1}^na_{ij}x_j\\right|$$\n",
    "\n",
    "(For the example system above, the vector $x = (1, 1)^\\intercal$ has deviation $2 + 1 + 0 + 1 = 4$.)"
   ]
  },
  {
   "cell_type": "markdown",
   "id": "finished-ghana",
   "metadata": {},
   "source": [
    "***(a)*** *Show that a solution to the optimization problem*\n",
    "\n",
    "$$\\begin{align}\n",
    "    &\\text{minimize } \\sum_{i=1}^{m} y_i \\\\\n",
    "    &\\text{subject to} \\\\\n",
    "    &\\hspace{2cm}\\left|\\sum_{j=1}^n a_{ij} x_j - b_i\\right| \\le y_i, \\ \\ \\ \\ i = 1, \\cdots, m\n",
    "\\end{align}$$\n",
    "\n",
    "*will give a vector $x$ of minimum deviation.*"
   ]
  },
  {
   "cell_type": "markdown",
   "id": "declared-laundry",
   "metadata": {},
   "source": [
    "Note that \n",
    "\n",
    "$$\\text{minimize} \\sum_{i=1}^n\\left|b_i - \\sum_{j=1}^na_{ij}x_j\\right|$$\n",
    "\n",
    "is the same as\n",
    "\n",
    "$$\\begin{align}\n",
    "    &\\text{minimize } \\sum_{i=1}^{m} y_i \\\\\n",
    "    &\\text{subject to} \\\\\n",
    "    &\\hspace{2cm}\\left|\\sum_{j=1}^n a_{ij} x_j - b_i\\right| = y_i, \\ \\ \\ \\ i = 1, \\cdots, m\n",
    "\\end{align}$$\n",
    "\n",
    "which has the same optimal solution (when it exists) as\n",
    "\n",
    "$$\\begin{align}\n",
    "    &\\text{minimize } \\sum_{i=1}^{m} y_i \\\\\n",
    "    &\\text{subject to} \\\\\n",
    "    &\\hspace{2cm}\\left|\\sum_{j=1}^n a_{ij} x_j - b_i\\right| \\le y_i, \\ \\ \\ \\ i = 1, \\cdots, m\n",
    "\\end{align}$$"
   ]
  },
  {
   "cell_type": "markdown",
   "id": "egyptian-retail",
   "metadata": {},
   "source": [
    "***(b)*** *The problem of part **(a)** is not a LP.\n",
    "(Why?)\n",
    "Show that it can be formulated as an LP.*"
   ]
  },
  {
   "cell_type": "markdown",
   "id": "pharmaceutical-object",
   "metadata": {},
   "source": [
    "The problem of **(a)** is not LP because of the absolute value.\n",
    "But it is simple to make it LP:\n",
    "\n",
    "$$\\begin{align}\n",
    "&\\text{minimize } \\sum_{i=1}^{m} y_i \\\\\n",
    "&\\text{subject to} \\\\\n",
    "&\\hspace{2cm}\\sum_{j=1}^n a_{ij} x_j - b_i \\le y_i, \\ \\ \\ \\ i = 1, \\cdots, m \\\\\n",
    "&\\hspace{2cm}-y_i \\le \\sum_{j=1}^n a_{ij} x_j - b_i, \\ \\ \\ \\ i = 1, \\cdots, m\n",
    "\\end{align}$$"
   ]
  },
  {
   "cell_type": "markdown",
   "id": "billion-forge",
   "metadata": {},
   "source": [
    "***(c)*** *Suppose that we had instead defined the deviation of $x$ as*\n",
    "\n",
    "$$\\max_{1 \\le i \\le m} \\left| b_i - \\sum_{j = 1}^n a_{ij} x_j \\right|$$\n",
    "\n",
    "*(According to this definition, in the example above $x = (1, 1)^\\intercal$ would have deviation $\\max\\{2, 1, 0, 1\\} = 2$.)\n",
    "With this new definition, write the problem of finding a vector of minimum deviation as an optimization problem, and show that this problem can also be formulated as an LP.*"
   ]
  },
  {
   "cell_type": "markdown",
   "id": "reduced-anchor",
   "metadata": {},
   "source": [
    "The problem can be formulated as\n",
    "\n",
    "$$\\text{minimize} \\max_{1 \\le i \\le m} \\left| b_i - \\sum_{j = 1}^n a_{ij} x_j \\right|$$\n",
    "\n",
    "When can do a trick in order to make it LP:\n",
    "\n",
    "$$\\begin{align}\n",
    "    &\\text{minimize } y \\\\\n",
    "    &\\text{subject to  } \\\\\n",
    "    &\\hspace{2cm} \\left| b_i - \\sum_{j = 1}^n a_{ij} x_j \\right| \\le y, \\ \\ \\ \\ i = 1, \\cdots, m\n",
    "\\end{align}$$"
   ]
  },
  {
   "cell_type": "markdown",
   "id": "revolutionary-flood",
   "metadata": {},
   "source": [
    "## Reference\n",
    "\n",
    "```bibtex\n",
    "@book{guenin2014gentle,\n",
    "    title={A Gentle Introduction to Optimization},\n",
    "    author={Guenin, B. and K{\\\"o}nemann, J. and Tun{\\c{c}}el, L.},\n",
    "    isbn={9781107053441},\n",
    "    lccn={2014008067},\n",
    "    url={https://books.google.com.br/books?id=JC4DBAAAQBAJ},\n",
    "    year={2014},\n",
    "    publisher={Cambridge University Press}\n",
    "}\n",
    "```"
   ]
  }
 ],
 "metadata": {
  "kernelspec": {
   "display_name": "Julia 1.5.3",
   "language": "julia",
   "name": "julia-1.5"
  },
  "language_info": {
   "file_extension": ".jl",
   "mimetype": "application/julia",
   "name": "julia",
   "version": "1.5.3"
  }
 },
 "nbformat": 4,
 "nbformat_minor": 5
}
