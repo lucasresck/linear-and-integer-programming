{
 "cells": [
  {
   "cell_type": "markdown",
   "id": "every-salon",
   "metadata": {},
   "source": [
    "# Primal-dual interior-point method implementation\n",
    "\n",
    "Here we examine a Python implementation of a primal-dual interior-point method, specically the **short-step primal-dual path-following algorithm**, for solving linear programming problems, and we also compare it to simplex method."
   ]
  },
  {
   "cell_type": "markdown",
   "id": "improving-rover",
   "metadata": {
    "toc": true
   },
   "source": [
    "<h1>Table of Contents<span class=\"tocSkip\"></span></h1>\n",
    "<div class=\"toc\"><ul class=\"toc-item\"><li><span><a href=\"#Setup\" data-toc-modified-id=\"Setup-1\"><span class=\"toc-item-num\">1&nbsp;&nbsp;</span>Setup</a></span></li><li><span><a href=\"#Working-example\" data-toc-modified-id=\"Working-example-2\"><span class=\"toc-item-num\">2&nbsp;&nbsp;</span>Working example</a></span></li></ul></div>"
   ]
  },
  {
   "cell_type": "markdown",
   "id": "responsible-boards",
   "metadata": {},
   "source": [
    "## Setup"
   ]
  },
  {
   "cell_type": "code",
   "execution_count": 1,
   "id": "written-drink",
   "metadata": {},
   "outputs": [],
   "source": [
    "import importlib\n",
    "import numpy as np\n",
    "import sys\n",
    "\n",
    "sys.path.append('..')\n",
    "importlib.reload(sys.modules.get('interior_point', sys))\n",
    "importlib.reload(sys.modules.get('simplex', sys))\n",
    "\n",
    "from interior_point import InteriorPoint\n",
    "from simplex import Simplex"
   ]
  },
  {
   "cell_type": "code",
   "execution_count": 2,
   "id": "suitable-service",
   "metadata": {},
   "outputs": [],
   "source": [
    "%config Completer.use_jedi = False"
   ]
  },
  {
   "cell_type": "markdown",
   "id": "communist-strategy",
   "metadata": {},
   "source": [
    "## Working example"
   ]
  },
  {
   "cell_type": "markdown",
   "id": "level-niagara",
   "metadata": {},
   "source": [
    "Consider the following linear programming problem:\n",
    "\n",
    "$$\\begin{equation}\n",
    "    \\begin{aligned}\n",
    "        \\max \\quad & 3 x_1 + 4 x_2 + 2 x_3 \\\\\n",
    "        \\textrm{s.t.} \\quad & 2x_1 \\le 4, \\\\\n",
    "        & x_1 + 2 x_3 \\le 8, \\\\\n",
    "        & 3x_2 + x_3 \\le 6, \\\\\n",
    "        & x_1, x_2, x_3 \\ge 0\n",
    "    \\end{aligned}\n",
    "\\end{equation}$$\n",
    "\n",
    "We can solve it using simplex method:"
   ]
  },
  {
   "cell_type": "code",
   "execution_count": 3,
   "id": "spoken-blink",
   "metadata": {},
   "outputs": [
    {
     "name": "stdout",
     "output_type": "stream",
     "text": [
      "Canonizing the linear programming problem...\n",
      "    Converting free variables to nonnegative variables... Done.\n",
      "    Converting inequalities to equalities using slack and surplus variables... Done.\n",
      "    Multiplying equations with a negative righthand side coefficient by −1... Done.\n",
      "    Checking artificial variables needed... We need 0 artificial variable(s).\n",
      "Finished canonization.\n",
      "Starting the simplex algorithm...\n",
      "Finished simplex algorithm.\n"
     ]
    }
   ],
   "source": [
    "tableau = np.array([\n",
    "    [2, 0, 0, 4],\n",
    "    [1, 0, 2, 8],\n",
    "    [0, 3, 1, 6],\n",
    "    [3, 4, 2, 0]\n",
    "])\n",
    "simplex = Simplex(tableau, ['<=', '<=', '<='], ['>=0','>=0', '>=0'])"
   ]
  },
  {
   "cell_type": "code",
   "execution_count": 4,
   "id": "interracial-orleans",
   "metadata": {},
   "outputs": [
    {
     "data": {
      "text/plain": [
       "[2.0, 1.0, 3.0]"
      ]
     },
     "execution_count": 4,
     "metadata": {},
     "output_type": "execute_result"
    }
   ],
   "source": [
    "simplex.beauty_solution"
   ]
  },
  {
   "cell_type": "code",
   "execution_count": 5,
   "id": "measured-multimedia",
   "metadata": {},
   "outputs": [
    {
     "data": {
      "text/plain": [
       "4"
      ]
     },
     "execution_count": 5,
     "metadata": {},
     "output_type": "execute_result"
    }
   ],
   "source": [
    "simplex.n_iter"
   ]
  },
  {
   "cell_type": "markdown",
   "id": "opening-grocery",
   "metadata": {},
   "source": [
    "Let's explore this same problem using our interior-point method:"
   ]
  },
  {
   "cell_type": "code",
   "execution_count": 6,
   "id": "incident-tackle",
   "metadata": {},
   "outputs": [],
   "source": [
    "A = np.array([\n",
    "    [2, 0, 0, 1, 0, 0],\n",
    "    [1, 0, 2, 0, 1, 0],\n",
    "    [0, 3, 1, 0, 0, 1]\n",
    "])\n",
    "x = np.array([1, 1, 1, 2, 5, 2])\n",
    "y = np.array([2, 2, 2])\n",
    "s = np.array([3, 2, 4, 2, 2, 2])\n",
    "ip = InteriorPoint(A, initial_point=(x, y, s), sigma=0.6, eps=0.01)"
   ]
  },
  {
   "cell_type": "code",
   "execution_count": 7,
   "id": "turkish-blast",
   "metadata": {},
   "outputs": [
    {
     "data": {
      "text/plain": [
       "array([1.99952400e+00, 1.00023810e+00, 2.99833375e+00, 9.51998679e-04,\n",
       "       3.80849857e-03, 9.51956699e-04])"
      ]
     },
     "execution_count": 7,
     "metadata": {},
     "output_type": "execute_result"
    }
   ],
   "source": [
    "ip.solution[0]"
   ]
  },
  {
   "cell_type": "code",
   "execution_count": 8,
   "id": "floating-residence",
   "metadata": {},
   "outputs": [
    {
     "data": {
      "text/plain": [
       "16"
      ]
     },
     "execution_count": 8,
     "metadata": {},
     "output_type": "execute_result"
    }
   ],
   "source": [
    "ip.n_iter"
   ]
  }
 ],
 "metadata": {
  "kernelspec": {
   "display_name": "Python 3",
   "language": "python",
   "name": "python3"
  },
  "language_info": {
   "codemirror_mode": {
    "name": "ipython",
    "version": 3
   },
   "file_extension": ".py",
   "mimetype": "text/x-python",
   "name": "python",
   "nbconvert_exporter": "python",
   "pygments_lexer": "ipython3",
   "version": "3.8.8"
  },
  "toc": {
   "base_numbering": 1,
   "nav_menu": {},
   "number_sections": true,
   "sideBar": true,
   "skip_h1_title": true,
   "title_cell": "Table of Contents",
   "title_sidebar": "Contents",
   "toc_cell": true,
   "toc_position": {},
   "toc_section_display": true,
   "toc_window_display": false
  }
 },
 "nbformat": 4,
 "nbformat_minor": 5
}
