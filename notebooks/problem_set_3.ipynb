{
 "cells": [
  {
   "cell_type": "markdown",
   "id": "turned-woman",
   "metadata": {},
   "source": [
    "# Problem set 3\n",
    "\n",
    "- **Student:** Lucas Emanuel Resck Domingues\n",
    "- **Professor:** Luciano Guimarães\n",
    "- **FGV-EMAp**"
   ]
  },
  {
   "cell_type": "markdown",
   "id": "psychological-schema",
   "metadata": {
    "toc": true
   },
   "source": [
    "<h1>Table of Contents<span class=\"tocSkip\"></span></h1>\n",
    "<div class=\"toc\"><ul class=\"toc-item\"><li><span><a href=\"#Chapter-9---Integer-Programming\" data-toc-modified-id=\"Chapter-9---Integer-Programming-1\">Chapter 9 - Integer Programming</a></span><ul class=\"toc-item\"><li><span><a href=\"#Problem-1\" data-toc-modified-id=\"Problem-1-1.1\">Problem 1</a></span></li><li><span><a href=\"#Problem-3\" data-toc-modified-id=\"Problem-3-1.2\">Problem 3</a></span></li></ul></li><li><span><a href=\"#Reference\" data-toc-modified-id=\"Reference-2\">Reference</a></span></li></ul></div>"
   ]
  },
  {
   "cell_type": "markdown",
   "id": "offshore-suffering",
   "metadata": {},
   "source": [
    "## Chapter 9 - Integer Programming"
   ]
  },
  {
   "cell_type": "markdown",
   "id": "cardiac-loading",
   "metadata": {},
   "source": [
    "### Problem 1\n",
    "\n",
    "As the leader of an oil-exploration drilling venture, you must determine the least-cost selection of 5 out of 10 possible sites.\n",
    "Label the sites $S_1, S_2, \\cdots, S_{10}$, and the exploration costs associated with each as $C_1, C_2, \\cdots, C_{10}$.\n",
    "Regional development restrictions are such that:\n",
    "\n",
    "1. Evaluating sites $S_1$ and $S_7$ will prevent you from exploring site $S_8$.\n",
    "2. Evaluating site $S_3$ or $S_4$ prevents you from assessing site $S_5$.\n",
    "3. Of the group $S_5, S_6, S_7, S_8$, only two sites may be assessed.\n",
    "\n",
    "Formulate an integer program to determine the minimum-cost exploration scheme that satisfies these restrictions."
   ]
  },
  {
   "cell_type": "markdown",
   "id": "ready-senior",
   "metadata": {},
   "source": [
    "**Solution:** Let $S_1, \\cdots, S_{10} \\in \\{0, 1\\}$ indicate if the respective site is selected.\n",
    "We ask that\n",
    "$$\\sum_{i = 1}^{10} S_i = 5$$\n",
    "so that just 5 of the 10 possible sites are selected.\n",
    "Our objective is to minimize the cost:\n",
    "$$\\sum_{i = 1}^{10} C_ i S_i.$$\n",
    "\n",
    "The regional development restrictions can be built this way:\n",
    "- If $S_1$ and $S_7$ are selected, $S_8$ can't: $\\ \\ S_8 \\le 2 - (S_1 + S_7)$\n",
    "- If $S_3$ or $S_4$ is selected, $S_5$ can't: $\\ \\ S_5 \\le 1 - S_3$, $\\ \\ S_5 \\le 1 - S_4$\n",
    "- Only two of $S_5, S_6, S_7, S_8$ can be selected: $S_5 + S_6 + S_7 + S_8 \\le 2$\n",
    "\n",
    "Let's see an example."
   ]
  },
  {
   "cell_type": "code",
   "execution_count": 1,
   "id": "protected-excerpt",
   "metadata": {},
   "outputs": [],
   "source": [
    "using Cbc, JuMP\n",
    "\n",
    "m = Model(with_optimizer(Cbc.Optimizer, logLevel = 0));"
   ]
  },
  {
   "cell_type": "markdown",
   "id": "surrounded-helmet",
   "metadata": {},
   "source": [
    "Let's consider $C_i = 1$, for simplicity. We create the variables:"
   ]
  },
  {
   "cell_type": "code",
   "execution_count": 2,
   "id": "magnetic-inquiry",
   "metadata": {},
   "outputs": [
    {
     "data": {
      "text/plain": [
       "10-element Array{VariableRef,1}:\n",
       " S[1]\n",
       " S[2]\n",
       " S[3]\n",
       " S[4]\n",
       " S[5]\n",
       " S[6]\n",
       " S[7]\n",
       " S[8]\n",
       " S[9]\n",
       " S[10]"
      ]
     },
     "execution_count": 2,
     "metadata": {},
     "output_type": "execute_result"
    }
   ],
   "source": [
    "@variable(m, S[1:10], Bin)"
   ]
  },
  {
   "cell_type": "markdown",
   "id": "peripheral-reducing",
   "metadata": {},
   "source": [
    "We add the objective:"
   ]
  },
  {
   "cell_type": "code",
   "execution_count": 3,
   "id": "muslim-stations",
   "metadata": {},
   "outputs": [
    {
     "data": {
      "text/latex": [
       "$$ S_{1} + S_{2} + S_{3} + S_{4} + S_{5} + S_{6} + S_{7} + S_{8} + S_{9} + S_{10} $$"
      ],
      "text/plain": [
       "S[1] + S[2] + S[3] + S[4] + S[5] + S[6] + S[7] + S[8] + S[9] + S[10]"
      ]
     },
     "execution_count": 3,
     "metadata": {},
     "output_type": "execute_result"
    }
   ],
   "source": [
    "@objective(m, Min, sum(S))"
   ]
  },
  {
   "cell_type": "markdown",
   "id": "shared-bracket",
   "metadata": {},
   "source": [
    "The restrictions:"
   ]
  },
  {
   "cell_type": "code",
   "execution_count": 4,
   "id": "super-boards",
   "metadata": {},
   "outputs": [],
   "source": [
    "# Just 5 selected\n",
    "@constraint(m, sum(S) == 5)\n",
    "\n",
    "# Regional restrictions\n",
    "@constraint(m, S[8] ≤ 2 - (S[1] + S[7]))\n",
    "@constraint(m, S[5] ≤ 1 - S[3])\n",
    "@constraint(m, S[5] ≤ 1 - S[4])\n",
    "@constraint(m, S[5] + S[6] + S[7] + S[8] ≤ 2);"
   ]
  },
  {
   "cell_type": "markdown",
   "id": "sacred-premises",
   "metadata": {},
   "source": [
    "We optimize it!"
   ]
  },
  {
   "cell_type": "code",
   "execution_count": 5,
   "id": "recognized-raleigh",
   "metadata": {},
   "outputs": [
    {
     "name": "stdout",
     "output_type": "stream",
     "text": [
      "[0.0, 1.0, 1.0, 0.0, 0.0, 1.0, 0.0, 0.0, 1.0, 1.0]"
     ]
    }
   ],
   "source": [
    "optimize!(m)\n",
    "print(value.(S))"
   ]
  },
  {
   "cell_type": "markdown",
   "id": "ranking-continent",
   "metadata": {},
   "source": [
    "It makes sense :)"
   ]
  },
  {
   "cell_type": "markdown",
   "id": "motivated-voluntary",
   "metadata": {},
   "source": [
    "### Problem 3\n",
    "\n",
    "The marketing group of A. J. Pitt Company is considering the options available for its next advertising campaign program.\n",
    "After a great deal of work, the group has identified a selected number of options with the characteristics shown in the accompanying table.\n",
    "\n",
    "| | TV | Trade magazine | Newspaper | Radio | Popular magazine | Promotional campaign | Total resource available |\n",
    "|--- | --- | --- | --- | --- | --- | --- | --- |\n",
    "| **Customers reached** | 1,000,000 | 200,000 | 300,000 | 400,000 | 450,000 | 450,000 | - |\n",
    "| **Cost ($)** | 500,000 | 150,000 | 300,000 | 250,000 | 250,000 | 100,000 | 1,800,000 |\n",
    "| **Designers needed (man-hours)** | 700 | 250 | 200 | 200 | 300 | 400 | 1,500 |\n",
    "| **Salesmen needed (man-hours)** | 200 | 100 | 100 | 100 | 100 | 1,000 | 1,200 |\n",
    "\n",
    "The objective of the advertising program is to maximize the number of customers reached, subject to the limitation of resources (money, designers, and salesman) given in the table above.\n",
    "In addition, the following constraints have to be met:\n",
    "\n",
    "1. If the promotional campaign is undertaken, it needs either a radio or a popular magazine campaign effort to\n",
    "support it.\n",
    "2. The firm cannot advertise in both the trade and popular magazines.\n",
    "\n",
    "Formulate an integer-programming model that will assist the company to select an appropriate advertising campaign\n",
    "strategy."
   ]
  },
  {
   "cell_type": "markdown",
   "id": "entire-istanbul",
   "metadata": {},
   "source": [
    "**Solution:** Let $x_1, \\cdots, x_6$ be binary variables indicating advertising in $\\text{TV}, \\cdots, \\text{Promotional campaign}$. Consider the above table as a matrix $C$. We want to maximize the number of customers reached:\n",
    "\n",
    "$$\\sum_{i = 1}^6 x_i C_{1i}$$\n",
    "\n",
    "We have constraints of cost, designers and salesmen:\n",
    "\n",
    "$$\\sum_{i = 1}^6 x_i C_{ji} \\le C_{j7}, \\ \\ j = 2, 3, 4$$\n",
    "\n",
    "Two more constraints need to be met:\n",
    "\n",
    "- Promotional campaign implies radio or popular magazine: $x_6 \\le x_4 + x_5$\n",
    "- The firm cannot advertise in both the trade and popular magazines: $x_2 + x_5 \\le 1$\n",
    "\n",
    "Let's implement it!"
   ]
  },
  {
   "cell_type": "markdown",
   "id": "linear-championship",
   "metadata": {},
   "source": [
    "Our matrix $C$:"
   ]
  },
  {
   "cell_type": "code",
   "execution_count": 6,
   "id": "ecological-block",
   "metadata": {},
   "outputs": [],
   "source": [
    "C = [\n",
    "    [1000000, 200000, 300000, 400000, 450000, 450000, 0],\n",
    "    [500000, 150000, 300000, 250000, 250000, 100000, 1800000],\n",
    "    [700, 250, 200, 200, 300, 400, 1500],\n",
    "    [200, 100, 100, 100, 100, 1000, 1200]\n",
    "];"
   ]
  },
  {
   "cell_type": "code",
   "execution_count": 7,
   "id": "infectious-devices",
   "metadata": {},
   "outputs": [],
   "source": [
    "m = Model(with_optimizer(Cbc.Optimizer, logLevel = 0));"
   ]
  },
  {
   "cell_type": "markdown",
   "id": "southern-sport",
   "metadata": {},
   "source": [
    "Our variables $x_i$:"
   ]
  },
  {
   "cell_type": "code",
   "execution_count": 8,
   "id": "rotary-badge",
   "metadata": {},
   "outputs": [
    {
     "data": {
      "text/plain": [
       "6-element Array{VariableRef,1}:\n",
       " x[1]\n",
       " x[2]\n",
       " x[3]\n",
       " x[4]\n",
       " x[5]\n",
       " x[6]"
      ]
     },
     "execution_count": 8,
     "metadata": {},
     "output_type": "execute_result"
    }
   ],
   "source": [
    "@variable(m, x[1:6], Bin)"
   ]
  },
  {
   "cell_type": "markdown",
   "id": "former-bouquet",
   "metadata": {},
   "source": [
    "The objective:"
   ]
  },
  {
   "cell_type": "code",
   "execution_count": 9,
   "id": "diagnostic-courtesy",
   "metadata": {},
   "outputs": [
    {
     "data": {
      "text/latex": [
       "$$ 1.0e6 x_{1} + 200000 x_{2} + 300000 x_{3} + 400000 x_{4} + 450000 x_{5} + 450000 x_{6} $$"
      ],
      "text/plain": [
       "1.0e6 x[1] + 200000 x[2] + 300000 x[3] + 400000 x[4] + 450000 x[5] + 450000 x[6]"
      ]
     },
     "execution_count": 9,
     "metadata": {},
     "output_type": "execute_result"
    }
   ],
   "source": [
    "@objective(m, Max, sum(x.*C[1][1:6]))"
   ]
  },
  {
   "cell_type": "markdown",
   "id": "numerous-limit",
   "metadata": {},
   "source": [
    "The constraints:"
   ]
  },
  {
   "cell_type": "code",
   "execution_count": 10,
   "id": "primary-rugby",
   "metadata": {},
   "outputs": [
    {
     "data": {
      "text/latex": [
       "$ x_{2} + x_{5} \\leq 1.0 $"
      ],
      "text/plain": [
       "x[2] + x[5] ≤ 1.0"
      ]
     },
     "execution_count": 10,
     "metadata": {},
     "output_type": "execute_result"
    }
   ],
   "source": [
    "# Cost, designers and salesmen\n",
    "for j in [2,3,4]\n",
    "    @constraint(m, sum(x.*C[j][1:6]) ≤ C[j][7])\n",
    "end\n",
    "\n",
    "# Aditional constraints\n",
    "@constraint(m, x[6] ≤ x[4] + x[5])\n",
    "@constraint(m, x[2] + x[5] ≤ 1)"
   ]
  },
  {
   "cell_type": "markdown",
   "id": "pursuant-eight",
   "metadata": {},
   "source": [
    "Optimizing..."
   ]
  },
  {
   "cell_type": "code",
   "execution_count": 11,
   "id": "transparent-sustainability",
   "metadata": {},
   "outputs": [
    {
     "name": "stdout",
     "output_type": "stream",
     "text": [
      "[1.0, 0.0, 1.0, 1.0, 1.0, 0.0]"
     ]
    }
   ],
   "source": [
    "optimize!(m)\n",
    "print(value.(x))"
   ]
  },
  {
   "cell_type": "markdown",
   "id": "drawn-austria",
   "metadata": {},
   "source": [
    "## Reference\n",
    "\n",
    "```bibtex\n",
    "@book{bradley1977applied,\n",
    "  title={Applied mathematical programming},\n",
    "  author={Bradley, Stephen P and Hax, Arnoldo C and Magnanti, Thomas L},\n",
    "  year={1977},\n",
    "  publisher={Addison-Wesley}\n",
    "}\n",
    "```"
   ]
  }
 ],
 "metadata": {
  "kernelspec": {
   "display_name": "Julia 1.5.3",
   "language": "julia",
   "name": "julia-1.5"
  },
  "language_info": {
   "file_extension": ".jl",
   "mimetype": "application/julia",
   "name": "julia",
   "version": "1.5.3"
  },
  "toc": {
   "base_numbering": 1,
   "nav_menu": {},
   "number_sections": false,
   "sideBar": true,
   "skip_h1_title": true,
   "title_cell": "Table of Contents",
   "title_sidebar": "Contents",
   "toc_cell": true,
   "toc_position": {},
   "toc_section_display": true,
   "toc_window_display": false
  }
 },
 "nbformat": 4,
 "nbformat_minor": 5
}
