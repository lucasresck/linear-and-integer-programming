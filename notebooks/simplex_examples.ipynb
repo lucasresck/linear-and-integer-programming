{
 "cells": [
  {
   "cell_type": "markdown",
   "id": "compressed-andorra",
   "metadata": {},
   "source": [
    "# Simplex implementation\n",
    "\n",
    "Python implementation of the simplex algorithm for solving linear programming problems."
   ]
  },
  {
   "cell_type": "markdown",
   "id": "regulation-edward",
   "metadata": {
    "toc": true
   },
   "source": [
    "<h1>Table of Contents<span class=\"tocSkip\"></span></h1>\n",
    "<div class=\"toc\"><ul class=\"toc-item\"><li><span><a href=\"#Setup\" data-toc-modified-id=\"Setup-1\"><span class=\"toc-item-num\">1&nbsp;&nbsp;</span>Setup</a></span></li><li><span><a href=\"#Examples\" data-toc-modified-id=\"Examples-2\"><span class=\"toc-item-num\">2&nbsp;&nbsp;</span>Examples</a></span><ul class=\"toc-item\"><li><span><a href=\"#Already-optimal-example\" data-toc-modified-id=\"Already-optimal-example-2.1\"><span class=\"toc-item-num\">2.1&nbsp;&nbsp;</span>Already optimal example</a></span></li><li><span><a href=\"#Simple-example\" data-toc-modified-id=\"Simple-example-2.2\"><span class=\"toc-item-num\">2.2&nbsp;&nbsp;</span>Simple example</a></span></li><li><span><a href=\"#Another-simple-example\" data-toc-modified-id=\"Another-simple-example-2.3\"><span class=\"toc-item-num\">2.3&nbsp;&nbsp;</span>Another simple example</a></span></li><li><span><a href=\"#Unbounded-example\" data-toc-modified-id=\"Unbounded-example-2.4\"><span class=\"toc-item-num\">2.4&nbsp;&nbsp;</span>Unbounded example</a></span></li><li><span><a href=\"#Artificial-variables-example\" data-toc-modified-id=\"Artificial-variables-example-2.5\"><span class=\"toc-item-num\">2.5&nbsp;&nbsp;</span>Artificial variables example</a></span></li><li><span><a href=\"#Complex-example-with-artificial-variables\" data-toc-modified-id=\"Complex-example-with-artificial-variables-2.6\"><span class=\"toc-item-num\">2.6&nbsp;&nbsp;</span>Complex example with artificial variables</a></span></li></ul></li><li><span><a href=\"#Time-experiments\" data-toc-modified-id=\"Time-experiments-3\"><span class=\"toc-item-num\">3&nbsp;&nbsp;</span>Time experiments</a></span></li></ul></div>"
   ]
  },
  {
   "cell_type": "markdown",
   "id": "peaceful-smoke",
   "metadata": {},
   "source": [
    "## Setup"
   ]
  },
  {
   "cell_type": "code",
   "execution_count": 1,
   "id": "ignored-liberia",
   "metadata": {},
   "outputs": [],
   "source": [
    "import importlib\n",
    "import matplotlib.pyplot as plt\n",
    "import numpy as np\n",
    "import seaborn as sns\n",
    "import sys\n",
    "\n",
    "sns.set()\n",
    "sys.path.append('..')\n",
    "importlib.reload(sys.modules.get('simplex', sys))\n",
    "\n",
    "from simplex import Simplex"
   ]
  },
  {
   "cell_type": "code",
   "execution_count": 2,
   "id": "vocal-leadership",
   "metadata": {},
   "outputs": [],
   "source": [
    "%config Completer.use_jedi = False"
   ]
  },
  {
   "cell_type": "markdown",
   "id": "guided-credit",
   "metadata": {},
   "source": [
    "## Examples"
   ]
  },
  {
   "cell_type": "markdown",
   "id": "sophisticated-worcester",
   "metadata": {},
   "source": [
    "### Already optimal example\n",
    "\n",
    "The problem to solve is:\n",
    "\n",
    "$$\\begin{equation}\n",
    "    \\begin{aligned}\n",
    "        \\max \\quad & z = 0 x_1 + 0 x_2 - 3 x_3 - x_4 + 20 \\\\\n",
    "        \\textrm{s.t.} \\quad & x_1 - 3 x_3 + 3 x_4 = 6, \\\\\n",
    "        & x_2 - 8 x_3 + 4 x_4 = 4, \\\\\n",
    "        & x_1, x_2, x_3, x_4 \\ge 0\n",
    "    \\end{aligned}\n",
    "\\end{equation}$$\n",
    "\n",
    "It is already optimal at $x_1 = 6, x_2 = 4, x_3 = 0, x_4 = 0$."
   ]
  },
  {
   "cell_type": "code",
   "execution_count": 3,
   "id": "beautiful-envelope",
   "metadata": {},
   "outputs": [],
   "source": [
    "tableau_1 = np.array([\n",
    "    [1, 0, -3, 3, 6],\n",
    "    [0, 1, -8, 4, 4],\n",
    "    [0, 0, -3, -1, -20]\n",
    "])"
   ]
  },
  {
   "cell_type": "code",
   "execution_count": 4,
   "id": "built-lottery",
   "metadata": {},
   "outputs": [
    {
     "name": "stdout",
     "output_type": "stream",
     "text": [
      "Canonizing the linear programming problem...\n",
      "    Converting free variables to nonnegative variables... Done.\n",
      "    Converting inequalities to equalities using slack and surplus variables... Done.\n",
      "    Multiplying equations with a negative righthand side coefficient by −1... Done.\n",
      "    Checking artificial variables needed... We need 0 artificial variable(s).\n",
      "Finished canonization.\n",
      "Starting the simplex algorithm...\n",
      "Finished simplex algorithm.\n"
     ]
    }
   ],
   "source": [
    "simplex_1 = Simplex(tableau_1, ['==', '=='], ['>=0', '>=0', '>=0', '>=0'])"
   ]
  },
  {
   "cell_type": "code",
   "execution_count": 5,
   "id": "close-directory",
   "metadata": {},
   "outputs": [
    {
     "data": {
      "text/plain": [
       "array([[  1.,   0.,  -3.,   3.,   6.],\n",
       "       [  0.,   1.,  -8.,   4.,   4.],\n",
       "       [  0.,   0.,  -3.,  -1., -20.]])"
      ]
     },
     "execution_count": 5,
     "metadata": {},
     "output_type": "execute_result"
    }
   ],
   "source": [
    "simplex_1.tableau"
   ]
  },
  {
   "cell_type": "code",
   "execution_count": 6,
   "id": "voluntary-rotation",
   "metadata": {},
   "outputs": [
    {
     "data": {
      "text/plain": [
       "array([6., 4., 0., 0.])"
      ]
     },
     "execution_count": 6,
     "metadata": {},
     "output_type": "execute_result"
    }
   ],
   "source": [
    "simplex_1.solution"
   ]
  },
  {
   "cell_type": "markdown",
   "id": "stainless-holly",
   "metadata": {},
   "source": [
    "### Simple example\n",
    "\n",
    "The simple problem to be solved is:\n",
    "\n",
    "$$\\begin{equation}\n",
    "    \\begin{aligned}\n",
    "        \\max \\quad & z = 0 x_1 + 0 x_2 - 3 x_3 + x_4 + 20 \\\\\n",
    "        \\textrm{s.t.} \\quad & x_1 - 3 x_3 + 3 x_4 = 6, \\\\\n",
    "        & x_2 - 8 x_3 + 4 x_4 = 4, \\\\\n",
    "        & x_1, x_2, x_3, x_4, \\ge 0\n",
    "    \\end{aligned}\n",
    "\\end{equation}$$"
   ]
  },
  {
   "cell_type": "code",
   "execution_count": 7,
   "id": "pacific-timer",
   "metadata": {},
   "outputs": [],
   "source": [
    "tableau_2 = np.array([\n",
    "    [1, 0, -3, 3, 6],\n",
    "    [0, 1, -8, 4, 4],\n",
    "    [0, 0, -3, 1, -20]\n",
    "])"
   ]
  },
  {
   "cell_type": "code",
   "execution_count": 8,
   "id": "enclosed-entertainment",
   "metadata": {},
   "outputs": [
    {
     "name": "stdout",
     "output_type": "stream",
     "text": [
      "Canonizing the linear programming problem...\n",
      "    Converting free variables to nonnegative variables... Done.\n",
      "    Converting inequalities to equalities using slack and surplus variables... Done.\n",
      "    Multiplying equations with a negative righthand side coefficient by −1... Done.\n",
      "    Checking artificial variables needed... We need 0 artificial variable(s).\n",
      "Finished canonization.\n",
      "Starting the simplex algorithm...\n",
      "Finished simplex algorithm.\n"
     ]
    }
   ],
   "source": [
    "simplex_2 = Simplex(tableau_2, ['==', '=='], ['>=0', '>=0', '>=0', '>=0'])"
   ]
  },
  {
   "cell_type": "code",
   "execution_count": 9,
   "id": "bridal-budapest",
   "metadata": {},
   "outputs": [
    {
     "data": {
      "text/plain": [
       "array([[  1.  ,  -0.75,   3.  ,   0.  ,   3.  ],\n",
       "       [  0.  ,   0.25,  -2.  ,   1.  ,   1.  ],\n",
       "       [  0.  ,  -0.25,  -1.  ,   0.  , -21.  ]])"
      ]
     },
     "execution_count": 9,
     "metadata": {},
     "output_type": "execute_result"
    }
   ],
   "source": [
    "simplex_2.tableau"
   ]
  },
  {
   "cell_type": "code",
   "execution_count": 10,
   "id": "north-cisco",
   "metadata": {},
   "outputs": [
    {
     "data": {
      "text/plain": [
       "array([3., 0., 0., 1.])"
      ]
     },
     "execution_count": 10,
     "metadata": {},
     "output_type": "execute_result"
    }
   ],
   "source": [
    "simplex_2.solution"
   ]
  },
  {
   "cell_type": "markdown",
   "id": "written-stanley",
   "metadata": {},
   "source": [
    "### Another simple example\n",
    "\n",
    "$$\\begin{equation}\n",
    "    \\begin{aligned}\n",
    "        \\max \\quad & z = 6 x_1 + 14 x_2 + 13 x_3 \\\\\n",
    "        \\textrm{s.t.} \\quad & \\frac{1}{2} x_1 + 2 x_3 \\le 24, \\\\\n",
    "        & x_1 + 2 x_2 + 4 x_3 \\le 60, \\\\\n",
    "        & x_1, x_2, x_3, \\ge 0\n",
    "    \\end{aligned}\n",
    "\\end{equation}$$"
   ]
  },
  {
   "cell_type": "code",
   "execution_count": 11,
   "id": "phantom-pickup",
   "metadata": {},
   "outputs": [],
   "source": [
    "tableau_3 = np.array([\n",
    "    [1/2, 2, 1, 24],\n",
    "    [1, 2, 4, 60],\n",
    "    [6, 14, 13, 0]\n",
    "])"
   ]
  },
  {
   "cell_type": "code",
   "execution_count": 12,
   "id": "portuguese-reception",
   "metadata": {},
   "outputs": [
    {
     "name": "stdout",
     "output_type": "stream",
     "text": [
      "Canonizing the linear programming problem...\n",
      "    Converting free variables to nonnegative variables... Done.\n",
      "    Converting inequalities to equalities using slack and surplus variables... Done.\n",
      "    Multiplying equations with a negative righthand side coefficient by −1... Done.\n",
      "    Checking artificial variables needed... We need 0 artificial variable(s).\n",
      "Finished canonization.\n",
      "Starting the simplex algorithm...\n",
      "Finished simplex algorithm.\n"
     ]
    }
   ],
   "source": [
    "simples_3 = Simplex(tableau_3, ['<=', '<='], ['>=0', '>=0', '>=0'])"
   ]
  },
  {
   "cell_type": "code",
   "execution_count": 13,
   "id": "formal-thickness",
   "metadata": {},
   "outputs": [
    {
     "data": {
      "text/plain": [
       "array([[   1. ,    6. ,    0. ,    4. ,   -1. ,   36. ],\n",
       "       [   0. ,   -1. ,    1. ,   -1. ,    0.5,    6. ],\n",
       "       [   0. ,   -9. ,    0. ,  -11. ,   -0.5, -294. ]])"
      ]
     },
     "execution_count": 13,
     "metadata": {},
     "output_type": "execute_result"
    }
   ],
   "source": [
    "simples_3.tableau"
   ]
  },
  {
   "cell_type": "code",
   "execution_count": 14,
   "id": "published-decline",
   "metadata": {},
   "outputs": [
    {
     "data": {
      "text/plain": [
       "array([36.,  0.,  6.,  0.,  0.])"
      ]
     },
     "execution_count": 14,
     "metadata": {},
     "output_type": "execute_result"
    }
   ],
   "source": [
    "simples_3.solution"
   ]
  },
  {
   "cell_type": "code",
   "execution_count": 15,
   "id": "improved-basketball",
   "metadata": {},
   "outputs": [
    {
     "data": {
      "text/plain": [
       "294.0"
      ]
     },
     "execution_count": 15,
     "metadata": {},
     "output_type": "execute_result"
    }
   ],
   "source": [
    "simples_3.objective"
   ]
  },
  {
   "cell_type": "markdown",
   "id": "martial-journalism",
   "metadata": {},
   "source": [
    "### Unbounded example\n",
    "\n",
    "The following linear programming problem is unbounded:\n",
    "\n",
    "$$\\begin{equation}\n",
    "    \\begin{aligned}\n",
    "        \\max \\quad & z = 0 x_1 + 0 x_2 + 3 x_3 - x_4 + 20 \\\\\n",
    "        \\textrm{s.t.} \\quad & x_1 - 3 x_3 + 3 x_4 = 6, \\\\\n",
    "        & x_2 - 8 x_3 + 4 x_4 = 4, \\\\\n",
    "        & x_1, x_2, x_3, x_4, \\ge 0\n",
    "    \\end{aligned}\n",
    "\\end{equation}$$"
   ]
  },
  {
   "cell_type": "code",
   "execution_count": 16,
   "id": "embedded-convention",
   "metadata": {},
   "outputs": [],
   "source": [
    "tableau_4 = np.array([\n",
    "    [1, 0, -3, 3, 6],\n",
    "    [0, 1, -8, 4, 4],\n",
    "    [0, 0, 3, -1, -20]\n",
    "])"
   ]
  },
  {
   "cell_type": "code",
   "execution_count": 17,
   "id": "proprietary-institute",
   "metadata": {},
   "outputs": [
    {
     "name": "stdout",
     "output_type": "stream",
     "text": [
      "Canonizing the linear programming problem...\n",
      "    Converting free variables to nonnegative variables... Done.\n",
      "    Converting inequalities to equalities using slack and surplus variables... Done.\n",
      "    Multiplying equations with a negative righthand side coefficient by −1... Done.\n",
      "    Checking artificial variables needed... We need 0 artificial variable(s).\n",
      "Finished canonization.\n",
      "Starting the simplex algorithm...\n",
      "    The primal problem is unbounded.\n"
     ]
    }
   ],
   "source": [
    "simplex_4 = Simplex(tableau_4, ['==', '=='], ['>=0', '>=0', '>=0', '>=0'])"
   ]
  },
  {
   "cell_type": "markdown",
   "id": "involved-disaster",
   "metadata": {},
   "source": [
    "### Artificial variables example\n",
    "\n",
    "In this example, we will need to add artificial variables.\n",
    "\n",
    "$$\\begin{equation}\n",
    "    \\begin{aligned}\n",
    "        \\max \\quad & z = - 3 x_1 + x_3\\\\\n",
    "        \\textrm{s.t.} \\quad & x_1 + x_2 + x_3 + x_4 = 4, \\\\\n",
    "        & - 2 x_1 + x_2 - x_3 = 1, \\\\\n",
    "        & 3 x_2 + x_3 + x_4 = 9, \\\\\n",
    "        & x_1, x_2, x_3, x_4 \\ge 0\n",
    "    \\end{aligned}\n",
    "\\end{equation}$$"
   ]
  },
  {
   "cell_type": "code",
   "execution_count": 18,
   "id": "varying-amount",
   "metadata": {},
   "outputs": [],
   "source": [
    "tableau_5 = np.array([\n",
    "    [1, 1, 1, 1, 4],\n",
    "    [-2, 1, -1, 0, 1],\n",
    "    [0, 3, 1, 1, 9],\n",
    "    [-3, 0, 1, 0, 0]\n",
    "])"
   ]
  },
  {
   "cell_type": "code",
   "execution_count": 19,
   "id": "recorded-damages",
   "metadata": {},
   "outputs": [
    {
     "name": "stdout",
     "output_type": "stream",
     "text": [
      "Canonizing the linear programming problem...\n",
      "    Converting free variables to nonnegative variables... Done.\n",
      "    Converting inequalities to equalities using slack and surplus variables... Done.\n",
      "    Multiplying equations with a negative righthand side coefficient by −1... Done.\n",
      "    Checking artificial variables needed... We need 3 artificial variable(s).\n",
      "        Adding artificial variable(s)... Done.\n",
      "        Starting Phase I... Done.\n",
      "        Starting transition from Phase I to Phase 2... Done.\n",
      "Finished canonization.\n",
      "Starting the simplex algorithm...\n",
      "Finished simplex algorithm.\n"
     ]
    }
   ],
   "source": [
    "simplex_5 = Simplex(tableau_5, ['==', '==', '=='], ['>=0', '>=0', '>=0', '>=0'])"
   ]
  },
  {
   "cell_type": "code",
   "execution_count": 20,
   "id": "armed-particle",
   "metadata": {},
   "outputs": [
    {
     "data": {
      "text/plain": [
       "array([[ 1.5,  0. ,  1. ,  0. ,  1.5],\n",
       "       [-0.5,  1. ,  0. ,  0. ,  2.5],\n",
       "       [ 0. ,  0. ,  0. ,  1. ,  0. ],\n",
       "       [-4.5,  0. ,  0. ,  0. , -1.5]])"
      ]
     },
     "execution_count": 20,
     "metadata": {},
     "output_type": "execute_result"
    }
   ],
   "source": [
    "simplex_5.tableau"
   ]
  },
  {
   "cell_type": "code",
   "execution_count": 21,
   "id": "structural-sweet",
   "metadata": {},
   "outputs": [
    {
     "data": {
      "text/plain": [
       "array([0. , 2.5, 1.5, 0. ])"
      ]
     },
     "execution_count": 21,
     "metadata": {},
     "output_type": "execute_result"
    }
   ],
   "source": [
    "simplex_5.solution"
   ]
  },
  {
   "cell_type": "code",
   "execution_count": 22,
   "id": "tracked-bishop",
   "metadata": {},
   "outputs": [
    {
     "data": {
      "text/plain": [
       "1.5"
      ]
     },
     "execution_count": 22,
     "metadata": {},
     "output_type": "execute_result"
    }
   ],
   "source": [
    "simplex_5.objective"
   ]
  },
  {
   "cell_type": "markdown",
   "id": "saved-locator",
   "metadata": {},
   "source": [
    "### Complex example with artificial variables\n",
    "\n",
    "In this example, we allow some constraints to be inequalities and some variables to be free.\n",
    "\n",
    "$$\\begin{equation}\n",
    "    \\begin{aligned}\n",
    "        \\max \\quad & z = - 3 x_1 + 2 x_2 - x_3 + 4 x_4\\\\\n",
    "        \\textrm{s.t.} \\quad & x_1 + x_2 - 4 x_3 + 2 x_4 \\ge 4, \\\\\n",
    "        & - 3 x_1 + x_2 - 2 x_3 \\le 6, \\\\\n",
    "        & x_2 - x_4 = -1, \\\\\n",
    "        & x_1 + x_2 - x_3 = 0, \\\\\n",
    "        & x_3, x_4 \\ge 0\n",
    "    \\end{aligned}\n",
    "\\end{equation}$$"
   ]
  },
  {
   "cell_type": "code",
   "execution_count": 23,
   "id": "recovered-timber",
   "metadata": {},
   "outputs": [],
   "source": [
    "tableau_6 = np.array([\n",
    "    [1, 1, -4, 2, 4],\n",
    "    [-3, 1, -2, 0, 6],\n",
    "    [0, 1, 0, -1, -1],\n",
    "    [1, 1, -1, 0, 0],\n",
    "    [-3, 2, -1, 4, 0]\n",
    "])"
   ]
  },
  {
   "cell_type": "code",
   "execution_count": 24,
   "id": "genetic-columbus",
   "metadata": {},
   "outputs": [
    {
     "name": "stdout",
     "output_type": "stream",
     "text": [
      "Canonizing the linear programming problem...\n",
      "    Converting free variables to nonnegative variables... Done.\n",
      "    Converting inequalities to equalities using slack and surplus variables... Done.\n",
      "    Multiplying equations with a negative righthand side coefficient by −1... Done.\n",
      "    Checking artificial variables needed... We need 3 artificial variable(s).\n",
      "        Adding artificial variable(s)... Done.\n",
      "        Starting Phase I... Done.\n",
      "        Starting transition from Phase I to Phase 2... Done.\n",
      "Finished canonization.\n",
      "Starting the simplex algorithm...\n",
      "Finished simplex algorithm.\n"
     ]
    }
   ],
   "source": [
    "simples_6 = Simplex(tableau_6, ['>=', '<=', '==', '=='], ['R', 'R', '>=0', '>=0'])"
   ]
  },
  {
   "cell_type": "code",
   "execution_count": 25,
   "id": "included-experience",
   "metadata": {},
   "outputs": [
    {
     "data": {
      "text/plain": [
       "array([[ -1. ,   1. ,   0. ,   0. ,   0. ,   0. ,   0.5,   0.5,   2. ],\n",
       "       [  0. ,   0. ,   0. ,   0. ,   1. ,   0. ,   2. ,   1. ,   2. ],\n",
       "       [  0. ,   0. ,   0. ,   0. ,   0. ,   1. ,   2.5,   1.5,   5. ],\n",
       "       [  0. ,   0. ,   1. ,  -1. ,   0. ,   0. ,   2.5,   1.5,   4. ],\n",
       "       [  0. ,   0. ,   0. ,   0. ,   0. ,   0. , -14.5,  -9.5, -32. ]])"
      ]
     },
     "execution_count": 25,
     "metadata": {},
     "output_type": "execute_result"
    }
   ],
   "source": [
    "simples_6.tableau"
   ]
  },
  {
   "cell_type": "code",
   "execution_count": 26,
   "id": "metric-traffic",
   "metadata": {},
   "outputs": [
    {
     "data": {
      "text/plain": [
       "array([0., 2., 4., 0., 2., 5., 0., 0.])"
      ]
     },
     "execution_count": 26,
     "metadata": {},
     "output_type": "execute_result"
    }
   ],
   "source": [
    "simples_6.solution"
   ]
  },
  {
   "cell_type": "code",
   "execution_count": 27,
   "id": "roman-dimension",
   "metadata": {},
   "outputs": [
    {
     "data": {
      "text/plain": [
       "32.0"
      ]
     },
     "execution_count": 27,
     "metadata": {},
     "output_type": "execute_result"
    }
   ],
   "source": [
    "simples_6.objective"
   ]
  },
  {
   "cell_type": "markdown",
   "id": "rising-armenia",
   "metadata": {},
   "source": [
    "## Time experiments\n",
    "\n",
    "We increase the number of constraints and see how much the time increases..."
   ]
  },
  {
   "cell_type": "code",
   "execution_count": 28,
   "id": "industrial-necessity",
   "metadata": {},
   "outputs": [
    {
     "name": "stdout",
     "output_type": "stream",
     "text": [
      "Canonizing the linear programming problem...\n",
      "    Converting free variables to nonnegative variables... Done.\n",
      "    Converting inequalities to equalities using slack and surplus variables... Done.\n",
      "    Multiplying equations with a negative righthand side coefficient by −1... Done.\n",
      "    Checking artificial variables needed... We need 0 artificial variable(s).\n",
      "Finished canonization.\n",
      "Starting the simplex algorithm...\n",
      "Finished simplex algorithm.\n",
      "CPU times: user 6 ms, sys: 526 µs, total: 6.53 ms\n",
      "Wall time: 4.62 ms\n"
     ]
    },
    {
     "data": {
      "text/plain": [
       "<simplex.Simplex at 0x7f98d2341dc0>"
      ]
     },
     "execution_count": 28,
     "metadata": {},
     "output_type": "execute_result"
    }
   ],
   "source": [
    "%%time\n",
    "n = 10\n",
    "tableau = np.random.randint(0, 100, [n+1, 20+1])\n",
    "Simplex(tableau, ['<=']*(n), ['>=']*20);"
   ]
  },
  {
   "cell_type": "code",
   "execution_count": 29,
   "id": "unavailable-intensity",
   "metadata": {},
   "outputs": [
    {
     "name": "stdout",
     "output_type": "stream",
     "text": [
      "Canonizing the linear programming problem...\n",
      "    Converting free variables to nonnegative variables... Done.\n",
      "    Converting inequalities to equalities using slack and surplus variables... Done.\n",
      "    Multiplying equations with a negative righthand side coefficient by −1... Done.\n",
      "    Checking artificial variables needed... We need 0 artificial variable(s).\n",
      "Finished canonization.\n",
      "Starting the simplex algorithm...\n",
      "Finished simplex algorithm.\n",
      "CPU times: user 28.3 ms, sys: 4.07 ms, total: 32.4 ms\n",
      "Wall time: 27.1 ms\n"
     ]
    },
    {
     "data": {
      "text/plain": [
       "<simplex.Simplex at 0x7f98d233a880>"
      ]
     },
     "execution_count": 29,
     "metadata": {},
     "output_type": "execute_result"
    }
   ],
   "source": [
    "%%time\n",
    "n = 100\n",
    "tableau = np.random.randint(0, 100, [n+1, 20+1])\n",
    "Simplex(tableau, ['<=']*(n), ['>=']*20);"
   ]
  },
  {
   "cell_type": "code",
   "execution_count": 30,
   "id": "significant-remark",
   "metadata": {},
   "outputs": [
    {
     "name": "stdout",
     "output_type": "stream",
     "text": [
      "Canonizing the linear programming problem...\n",
      "    Converting free variables to nonnegative variables... Done.\n",
      "    Converting inequalities to equalities using slack and surplus variables... Done.\n",
      "    Multiplying equations with a negative righthand side coefficient by −1... Done.\n",
      "    Checking artificial variables needed... We need 0 artificial variable(s).\n",
      "Finished canonization.\n",
      "Starting the simplex algorithm...\n",
      "Finished simplex algorithm.\n",
      "CPU times: user 127 ms, sys: 11.7 ms, total: 139 ms\n",
      "Wall time: 135 ms\n"
     ]
    },
    {
     "data": {
      "text/plain": [
       "<simplex.Simplex at 0x7f98d233a7c0>"
      ]
     },
     "execution_count": 30,
     "metadata": {},
     "output_type": "execute_result"
    }
   ],
   "source": [
    "%%time\n",
    "n = 1000\n",
    "tableau = np.random.randint(0, 100, [n+1, 20+1])\n",
    "Simplex(tableau, ['<=']*(n), ['>=']*20);"
   ]
  },
  {
   "cell_type": "code",
   "execution_count": 31,
   "id": "gorgeous-offset",
   "metadata": {},
   "outputs": [
    {
     "name": "stdout",
     "output_type": "stream",
     "text": [
      "Canonizing the linear programming problem...\n",
      "    Converting free variables to nonnegative variables... Done.\n",
      "    Converting inequalities to equalities using slack and surplus variables... Done.\n",
      "    Multiplying equations with a negative righthand side coefficient by −1... Done.\n",
      "    Checking artificial variables needed... We need 0 artificial variable(s).\n",
      "Finished canonization.\n",
      "Starting the simplex algorithm...\n",
      "Finished simplex algorithm.\n",
      "CPU times: user 5.47 s, sys: 472 ms, total: 5.94 s\n",
      "Wall time: 5.94 s\n"
     ]
    },
    {
     "data": {
      "text/plain": [
       "<simplex.Simplex at 0x7f98d233aa60>"
      ]
     },
     "execution_count": 31,
     "metadata": {},
     "output_type": "execute_result"
    }
   ],
   "source": [
    "%%time\n",
    "n = 10000\n",
    "tableau = np.random.randint(0, 100, [n+1, 20+1])\n",
    "Simplex(tableau, ['<=']*(n), ['>=']*20);"
   ]
  },
  {
   "cell_type": "code",
   "execution_count": 33,
   "id": "sapphire-portuguese",
   "metadata": {},
   "outputs": [
    {
     "data": {
      "image/png": "[encoded data removed]",
      "text/plain": [
       "<Figure size 432x288 with 1 Axes>"
      ]
     },
     "metadata": {},
     "output_type": "display_data"
    }
   ],
   "source": [
    "plt.loglog([10, 100, 1000, 10000], [4.62, 27.1, 135, 5.94*1000], '-o')\n",
    "plt.xlabel('Number of variables (log scale)')\n",
    "plt.ylabel('Processing time (ms) (log scale)')\n",
    "plt.title('Processing time (ms) vs. number of variables')\n",
    "plt.show()"
   ]
  }
 ],
 "metadata": {
  "kernelspec": {
   "display_name": "Python 3",
   "language": "python",
   "name": "python3"
  },
  "language_info": {
   "codemirror_mode": {
    "name": "ipython",
    "version": 3
   },
   "file_extension": ".py",
   "mimetype": "text/x-python",
   "name": "python",
   "nbconvert_exporter": "python",
   "pygments_lexer": "ipython3",
   "version": "3.8.8"
  },
  "toc": {
   "base_numbering": 1,
   "nav_menu": {},
   "number_sections": true,
   "sideBar": true,
   "skip_h1_title": true,
   "title_cell": "Table of Contents",
   "title_sidebar": "Contents",
   "toc_cell": true,
   "toc_position": {},
   "toc_section_display": true,
   "toc_window_display": false
  }
 },
 "nbformat": 4,
 "nbformat_minor": 5
}
