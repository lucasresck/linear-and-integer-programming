{
 "cells": [
  {
   "cell_type": "markdown",
   "id": "surprising-values",
   "metadata": {},
   "source": [
    "# Linear Optimization for [LIME]()\n",
    "\n",
    "LIME means Local Interpretable Model-agnostic Explanations.\n",
    "\n",
    "This study aims to formulate (and test) LIME with linear optimization."
   ]
  },
  {
   "cell_type": "markdown",
   "id": "committed-contrast",
   "metadata": {},
   "source": [
    "TODO:\n",
    "- Pre-process text\n",
    "- Run SVM more"
   ]
  },
  {
   "cell_type": "markdown",
   "id": "attempted-prior",
   "metadata": {
    "toc": true
   },
   "source": [
    "<h1>Table of Contents<span class=\"tocSkip\"></span></h1>\n",
    "<div class=\"toc\"><ul class=\"toc-item\"><li><span><a href=\"#Setup\" data-toc-modified-id=\"Setup-1\">Setup</a></span></li><li><span><a href=\"#Model\" data-toc-modified-id=\"Model-2\">Model</a></span><ul class=\"toc-item\"><li><span><a href=\"#Data\" data-toc-modified-id=\"Data-2.1\">Data</a></span></li><li><span><a href=\"#Classifier\" data-toc-modified-id=\"Classifier-2.2\">Classifier</a></span></li></ul></li><li><span><a href=\"#Optimization\" data-toc-modified-id=\"Optimization-3\">Optimization</a></span><ul class=\"toc-item\"><li><span><a href=\"#LIME\" data-toc-modified-id=\"LIME-3.1\">LIME</a></span></li><li><span><a href=\"#Calculation-of-parameters\" data-toc-modified-id=\"Calculation-of-parameters-3.2\">Calculation of parameters</a></span></li><li><span><a href=\"#Linear-optimization\" data-toc-modified-id=\"Linear-optimization-3.3\">Linear optimization</a></span></li></ul></li><li><span><a href=\"#References\" data-toc-modified-id=\"References-4\">References</a></span></li></ul></div>"
   ]
  },
  {
   "cell_type": "markdown",
   "id": "completed-leone",
   "metadata": {},
   "source": [
    "## Setup"
   ]
  },
  {
   "cell_type": "code",
   "execution_count": 1,
   "id": "preliminary-trainer",
   "metadata": {},
   "outputs": [],
   "source": [
    "from sklearn.decomposition import TruncatedSVD\n",
    "from sklearn.feature_extraction.text import TfidfVectorizer\n",
    "from sklearn.linear_model import LogisticRegressionCV\n",
    "from sklearn.model_selection import GridSearchCV, train_test_split\n",
    "from sklearn.pipeline import Pipeline\n",
    "from sklearn.preprocessing import StandardScaler\n",
    "from sklearn.svm import SVC\n",
    "import numpy as np\n",
    "import pandas as pd"
   ]
  },
  {
   "cell_type": "code",
   "execution_count": 2,
   "id": "secondary-fellow",
   "metadata": {},
   "outputs": [],
   "source": [
    "%config Completer.use_jedi = False"
   ]
  },
  {
   "cell_type": "markdown",
   "id": "cheap-cross",
   "metadata": {},
   "source": [
    "## Model"
   ]
  },
  {
   "cell_type": "markdown",
   "id": "intimate-teaching",
   "metadata": {},
   "source": [
    "### Data"
   ]
  },
  {
   "cell_type": "code",
   "execution_count": 3,
   "id": "known-pledge",
   "metadata": {},
   "outputs": [
    {
     "data": {
      "text/html": [
       "<div>\n",
       "<style scoped>\n",
       "    .dataframe tbody tr th:only-of-type {\n",
       "        vertical-align: middle;\n",
       "    }\n",
       "\n",
       "    .dataframe tbody tr th {\n",
       "        vertical-align: top;\n",
       "    }\n",
       "\n",
       "    .dataframe thead th {\n",
       "        text-align: right;\n",
       "    }\n",
       "</style>\n",
       "<table border=\"1\" class=\"dataframe\">\n",
       "  <thead>\n",
       "    <tr style=\"text-align: right;\">\n",
       "      <th></th>\n",
       "      <th>review</th>\n",
       "      <th>sentiment</th>\n",
       "    </tr>\n",
       "  </thead>\n",
       "  <tbody>\n",
       "    <tr>\n",
       "      <th>0</th>\n",
       "      <td>One of the other reviewers has mentioned that ...</td>\n",
       "      <td>positive</td>\n",
       "    </tr>\n",
       "    <tr>\n",
       "      <th>1</th>\n",
       "      <td>A wonderful little production. &lt;br /&gt;&lt;br /&gt;The...</td>\n",
       "      <td>positive</td>\n",
       "    </tr>\n",
       "    <tr>\n",
       "      <th>2</th>\n",
       "      <td>I thought this was a wonderful way to spend ti...</td>\n",
       "      <td>positive</td>\n",
       "    </tr>\n",
       "    <tr>\n",
       "      <th>3</th>\n",
       "      <td>Basically there's a family where a little boy ...</td>\n",
       "      <td>negative</td>\n",
       "    </tr>\n",
       "    <tr>\n",
       "      <th>4</th>\n",
       "      <td>Petter Mattei's \"Love in the Time of Money\" is...</td>\n",
       "      <td>positive</td>\n",
       "    </tr>\n",
       "    <tr>\n",
       "      <th>...</th>\n",
       "      <td>...</td>\n",
       "      <td>...</td>\n",
       "    </tr>\n",
       "    <tr>\n",
       "      <th>49995</th>\n",
       "      <td>I thought this movie did a down right good job...</td>\n",
       "      <td>positive</td>\n",
       "    </tr>\n",
       "    <tr>\n",
       "      <th>49996</th>\n",
       "      <td>Bad plot, bad dialogue, bad acting, idiotic di...</td>\n",
       "      <td>negative</td>\n",
       "    </tr>\n",
       "    <tr>\n",
       "      <th>49997</th>\n",
       "      <td>I am a Catholic taught in parochial elementary...</td>\n",
       "      <td>negative</td>\n",
       "    </tr>\n",
       "    <tr>\n",
       "      <th>49998</th>\n",
       "      <td>I'm going to have to disagree with the previou...</td>\n",
       "      <td>negative</td>\n",
       "    </tr>\n",
       "    <tr>\n",
       "      <th>49999</th>\n",
       "      <td>No one expects the Star Trek movies to be high...</td>\n",
       "      <td>negative</td>\n",
       "    </tr>\n",
       "  </tbody>\n",
       "</table>\n",
       "<p>50000 rows × 2 columns</p>\n",
       "</div>"
      ],
      "text/plain": [
       "                                                  review sentiment\n",
       "0      One of the other reviewers has mentioned that ...  positive\n",
       "1      A wonderful little production. <br /><br />The...  positive\n",
       "2      I thought this was a wonderful way to spend ti...  positive\n",
       "3      Basically there's a family where a little boy ...  negative\n",
       "4      Petter Mattei's \"Love in the Time of Money\" is...  positive\n",
       "...                                                  ...       ...\n",
       "49995  I thought this movie did a down right good job...  positive\n",
       "49996  Bad plot, bad dialogue, bad acting, idiotic di...  negative\n",
       "49997  I am a Catholic taught in parochial elementary...  negative\n",
       "49998  I'm going to have to disagree with the previou...  negative\n",
       "49999  No one expects the Star Trek movies to be high...  negative\n",
       "\n",
       "[50000 rows x 2 columns]"
      ]
     },
     "execution_count": 3,
     "metadata": {},
     "output_type": "execute_result"
    }
   ],
   "source": [
    "df = pd.read_csv('../data/IMDB Dataset.csv')\n",
    "df"
   ]
  },
  {
   "cell_type": "code",
   "execution_count": 4,
   "id": "binary-criminal",
   "metadata": {},
   "outputs": [],
   "source": [
    "X = df.review.to_list()\n",
    "y = df.sentiment.to_list()"
   ]
  },
  {
   "cell_type": "code",
   "execution_count": 5,
   "id": "spatial-messenger",
   "metadata": {},
   "outputs": [],
   "source": [
    "X_train, X_test, y_train, y_test = train_test_split(\n",
    "    X,\n",
    "    y,\n",
    "    test_size=0.2,\n",
    "    random_state=42,\n",
    "    stratify=y\n",
    ")"
   ]
  },
  {
   "cell_type": "markdown",
   "id": "union-google",
   "metadata": {},
   "source": [
    "### Classifier"
   ]
  },
  {
   "cell_type": "code",
   "execution_count": 6,
   "id": "veterinary-injection",
   "metadata": {},
   "outputs": [
    {
     "data": {
      "text/plain": [
       "(40000, 92647)"
      ]
     },
     "execution_count": 6,
     "metadata": {},
     "output_type": "execute_result"
    }
   ],
   "source": [
    "tf_idf = TfidfVectorizer(\n",
    "    strip_accents=None,\n",
    "    lowercase=True,\n",
    "    smooth_idf=True,\n",
    ")\n",
    "X_train = tf_idf.fit_transform(X_train)\n",
    "X_train.shape"
   ]
  },
  {
   "cell_type": "code",
   "execution_count": 7,
   "id": "damaged-history",
   "metadata": {},
   "outputs": [
    {
     "data": {
      "text/plain": [
       "(40000, 50)"
      ]
     },
     "execution_count": 7,
     "metadata": {},
     "output_type": "execute_result"
    }
   ],
   "source": [
    "t_svd = TruncatedSVD(n_components=50, random_state=42)\n",
    "X_train = t_svd.fit_transform(X_train)\n",
    "X_train.shape"
   ]
  },
  {
   "cell_type": "code",
   "execution_count": 8,
   "id": "quantitative-honduras",
   "metadata": {},
   "outputs": [],
   "source": [
    "scaler = StandardScaler(with_mean=True)\n",
    "X_train = scaler.fit_transform(X_train)"
   ]
  },
  {
   "cell_type": "code",
   "execution_count": 9,
   "id": "micro-asset",
   "metadata": {},
   "outputs": [],
   "source": [
    "# lr = LogisticRegressionCV(\n",
    "#     Cs=10,\n",
    "#     fit_intercept=True,\n",
    "#     cv=5,\n",
    "#     penalty='l2',\n",
    "#     solver='sag',\n",
    "#     tol=0.0001,\n",
    "#     max_iter=1000,\n",
    "#     n_jobs=-1,\n",
    "#     verbose=1,\n",
    "#     random_state=42,\n",
    "# )"
   ]
  },
  {
   "cell_type": "code",
   "execution_count": 10,
   "id": "stopped-theology",
   "metadata": {
    "scrolled": true
   },
   "outputs": [],
   "source": [
    "# %%time\n",
    "# lr.fit(X_train, y_train)"
   ]
  },
  {
   "cell_type": "code",
   "execution_count": 11,
   "id": "empty-password",
   "metadata": {},
   "outputs": [],
   "source": [
    "# model = Pipeline([\n",
    "#     ('tf_idf', tf_idf),\n",
    "#     ('t_svd', t_svd),\n",
    "#     ('scaler', scaler),\n",
    "#     ('lr', lr)\n",
    "# ])"
   ]
  },
  {
   "cell_type": "code",
   "execution_count": 12,
   "id": "spread-oliver",
   "metadata": {
    "scrolled": true
   },
   "outputs": [],
   "source": [
    "# model.score(X_test, y_test)"
   ]
  },
  {
   "cell_type": "code",
   "execution_count": 13,
   "id": "falling-nigeria",
   "metadata": {},
   "outputs": [],
   "source": [
    "svc = SVC(\n",
    "#     kernel='linear',\n",
    "    shrinking=True,\n",
    "    probability=True,\n",
    "    tol=0.001,\n",
    "    cache_size=200,\n",
    "    verbose=True,\n",
    "    max_iter=-1,\n",
    "    decision_function_shape='ovr',\n",
    "    random_state=42,\n",
    ")\n",
    "\n",
    "svm = GridSearchCV(\n",
    "    svc,\n",
    "    param_grid={'C': [1, 10], 'kernel': ['linear']},\n",
    "    n_jobs=-1,\n",
    "    cv=5,\n",
    "    verbose=3\n",
    ")"
   ]
  },
  {
   "cell_type": "code",
   "execution_count": 14,
   "id": "instrumental-ceramic",
   "metadata": {},
   "outputs": [
    {
     "name": "stdout",
     "output_type": "stream",
     "text": [
      "Fitting 5 folds for each of 2 candidates, totalling 10 fits\n",
      "[LibSVM]CPU times: user 4.1 s, sys: 184 ms, total: 4.28 s\n",
      "Wall time: 11.4 s\n"
     ]
    },
    {
     "data": {
      "text/plain": [
       "GridSearchCV(cv=5,\n",
       "             estimator=SVC(probability=True, random_state=42, verbose=True),\n",
       "             n_jobs=-1, param_grid={'C': [1, 10], 'kernel': ['linear']},\n",
       "             verbose=3)"
      ]
     },
     "execution_count": 14,
     "metadata": {},
     "output_type": "execute_result"
    }
   ],
   "source": [
    "%%time\n",
    "m = 600\n",
    "svm.fit(X_train[:m], y_train[:m])"
   ]
  },
  {
   "cell_type": "code",
   "execution_count": 15,
   "id": "aging-remainder",
   "metadata": {},
   "outputs": [],
   "source": [
    "model = Pipeline([\n",
    "    ('tf_idf', tf_idf),\n",
    "    ('t_svd', t_svd),\n",
    "    ('scaler', scaler),\n",
    "    ('svm', svm)\n",
    "])"
   ]
  },
  {
   "cell_type": "code",
   "execution_count": 16,
   "id": "demonstrated-dominican",
   "metadata": {},
   "outputs": [
    {
     "data": {
      "text/plain": [
       "0.8182"
      ]
     },
     "execution_count": 16,
     "metadata": {},
     "output_type": "execute_result"
    }
   ],
   "source": [
    "model.score(X_test, y_test)"
   ]
  },
  {
   "cell_type": "markdown",
   "id": "proprietary-purse",
   "metadata": {},
   "source": [
    "## Optimization"
   ]
  },
  {
   "cell_type": "markdown",
   "id": "registered-design",
   "metadata": {},
   "source": [
    "### LIME"
   ]
  },
  {
   "cell_type": "markdown",
   "id": "silver-failure",
   "metadata": {},
   "source": [
    "### Calculation of parameters"
   ]
  },
  {
   "cell_type": "code",
   "execution_count": 44,
   "id": "shared-crisis",
   "metadata": {},
   "outputs": [
    {
     "data": {
      "text/plain": [
       "'To call this film a complete waste of celluloid would be an understatement.<br /><br />The acting was unconvincing to say the least, especially from actor Craig Fong, who couldn\\'t have acted stiffer. As far as story goes...well...what story?! The \"film\" is nominally about Harry Lee, a Malaysian of Chinese descent who comes back to his home country after flunking out of every course he took and tries to start a band.<br /><br />The film has ever cliche you can think of -- sex, tension among band members and a little bit of racial tension thrown in.<br /><br />The problem is that even with a subject that\\'s been covered adequately by even the most amateurish directors, this movie is all over the place and the whole thing just feels contrived with parts that would make even the most hardened reviewers\\' hairs stand on end.<br /><br />'"
      ]
     },
     "execution_count": 44,
     "metadata": {},
     "output_type": "execute_result"
    }
   ],
   "source": [
    "example = X_test[5]\n",
    "example"
   ]
  },
  {
   "cell_type": "code",
   "execution_count": 27,
   "id": "plain-opposition",
   "metadata": {},
   "outputs": [
    {
     "data": {
      "text/plain": [
       "'negative'"
      ]
     },
     "execution_count": 27,
     "metadata": {},
     "output_type": "execute_result"
    }
   ],
   "source": [
    "y_test[5]"
   ]
  },
  {
   "cell_type": "code",
   "execution_count": 28,
   "id": "reduced-programmer",
   "metadata": {},
   "outputs": [
    {
     "data": {
      "text/plain": [
       "array(['negative'], dtype='<U8')"
      ]
     },
     "execution_count": 28,
     "metadata": {},
     "output_type": "execute_result"
    }
   ],
   "source": [
    "model.predict([example])"
   ]
  },
  {
   "cell_type": "code",
   "execution_count": 29,
   "id": "rotary-reality",
   "metadata": {},
   "outputs": [
    {
     "data": {
      "text/plain": [
       "array([[0.90328654, 0.09671346]])"
      ]
     },
     "execution_count": 29,
     "metadata": {},
     "output_type": "execute_result"
    }
   ],
   "source": [
    "model.predict_proba([example])"
   ]
  },
  {
   "cell_type": "code",
   "execution_count": 30,
   "id": "biblical-style",
   "metadata": {},
   "outputs": [],
   "source": [
    "N = 100\n",
    "K = 10"
   ]
  },
  {
   "cell_type": "code",
   "execution_count": 31,
   "id": "paperback-patent",
   "metadata": {},
   "outputs": [],
   "source": [
    "def f(x):\n",
    "    return model.predict_proba([x])[0]"
   ]
  },
  {
   "cell_type": "code",
   "execution_count": 32,
   "id": "least-boundary",
   "metadata": {},
   "outputs": [],
   "source": [
    "vector = Pipeline([\n",
    "    ('tf_idf', tf_idf),\n",
    "    ('t_svd', t_svd)\n",
    "])"
   ]
  },
  {
   "cell_type": "code",
   "execution_count": 33,
   "id": "biblical-shelter",
   "metadata": {},
   "outputs": [],
   "source": [
    "def pi(x, z, sigma=0.5):\n",
    "    cos = np.dot(x, z)/(np.linalg.norm(x)*np.linalg.norm(z))\n",
    "    if cos > 1:\n",
    "        cos = 1\n",
    "    D = np.arccos(cos)*2/np.pi\n",
    "    return np.exp(-D**2/sigma**2)"
   ]
  },
  {
   "cell_type": "code",
   "execution_count": 34,
   "id": "elder-testing",
   "metadata": {},
   "outputs": [
    {
     "data": {
      "text/plain": [
       "['To',\n",
       " 'call',\n",
       " 'this',\n",
       " 'film',\n",
       " 'a',\n",
       " 'complete',\n",
       " 'waste',\n",
       " 'of',\n",
       " 'celluloid',\n",
       " 'would',\n",
       " 'be',\n",
       " 'an',\n",
       " 'understatement.<br',\n",
       " '/><br',\n",
       " '/>The',\n",
       " 'acting',\n",
       " 'was',\n",
       " 'unconvincing',\n",
       " 'to',\n",
       " 'say',\n",
       " 'the',\n",
       " 'least,',\n",
       " 'especially',\n",
       " 'from',\n",
       " 'actor',\n",
       " 'Craig',\n",
       " 'Fong,',\n",
       " 'who',\n",
       " \"couldn't\",\n",
       " 'have',\n",
       " 'acted',\n",
       " 'stiffer.',\n",
       " 'As',\n",
       " 'far',\n",
       " 'as',\n",
       " 'story',\n",
       " 'goes...well...what',\n",
       " 'story?!',\n",
       " 'The',\n",
       " '\"film\"',\n",
       " 'is',\n",
       " 'nominally',\n",
       " 'about',\n",
       " 'Harry',\n",
       " 'Lee,',\n",
       " 'a',\n",
       " 'Malaysian',\n",
       " 'of',\n",
       " 'Chinese',\n",
       " 'descent',\n",
       " 'who',\n",
       " 'comes',\n",
       " 'back',\n",
       " 'to',\n",
       " 'his',\n",
       " 'home',\n",
       " 'country',\n",
       " 'after',\n",
       " 'flunking',\n",
       " 'out',\n",
       " 'of',\n",
       " 'every',\n",
       " 'course',\n",
       " 'he',\n",
       " 'took',\n",
       " 'and',\n",
       " 'tries',\n",
       " 'to',\n",
       " 'start',\n",
       " 'a',\n",
       " 'band.<br',\n",
       " '/><br',\n",
       " '/>The',\n",
       " 'film',\n",
       " 'has',\n",
       " 'ever',\n",
       " 'cliche',\n",
       " 'you',\n",
       " 'can',\n",
       " 'think',\n",
       " 'of',\n",
       " '--',\n",
       " 'sex,',\n",
       " 'tension',\n",
       " 'among',\n",
       " 'band',\n",
       " 'members',\n",
       " 'and',\n",
       " 'a',\n",
       " 'little',\n",
       " 'bit',\n",
       " 'of',\n",
       " 'racial',\n",
       " 'tension',\n",
       " 'thrown',\n",
       " 'in.<br',\n",
       " '/><br',\n",
       " '/>The',\n",
       " 'problem',\n",
       " 'is',\n",
       " 'that',\n",
       " 'even',\n",
       " 'with',\n",
       " 'a',\n",
       " 'subject',\n",
       " \"that's\",\n",
       " 'been',\n",
       " 'covered',\n",
       " 'adequately',\n",
       " 'by',\n",
       " 'even',\n",
       " 'the',\n",
       " 'most',\n",
       " 'amateurish',\n",
       " 'directors,',\n",
       " 'this',\n",
       " 'movie',\n",
       " 'is',\n",
       " 'all',\n",
       " 'over',\n",
       " 'the',\n",
       " 'place',\n",
       " 'and',\n",
       " 'the',\n",
       " 'whole',\n",
       " 'thing',\n",
       " 'just',\n",
       " 'feels',\n",
       " 'contrived',\n",
       " 'with',\n",
       " 'parts',\n",
       " 'that',\n",
       " 'would',\n",
       " 'make',\n",
       " 'even',\n",
       " 'the',\n",
       " 'most',\n",
       " 'hardened',\n",
       " \"reviewers'\",\n",
       " 'hairs',\n",
       " 'stand',\n",
       " 'on',\n",
       " 'end.<br',\n",
       " '/><br',\n",
       " '/>']"
      ]
     },
     "execution_count": 34,
     "metadata": {},
     "output_type": "execute_result"
    }
   ],
   "source": [
    "split = example.split()\n",
    "split"
   ]
  },
  {
   "cell_type": "code",
   "execution_count": 60,
   "id": "polish-method",
   "metadata": {},
   "outputs": [],
   "source": [
    "z_line = []\n",
    "f_z = []\n",
    "pi_x = []\n",
    "for i in range(N):\n",
    "    n = np.random.choice(range(1, len(split)))\n",
    "    indices = np.random.choice(range(len(split)), size=n, replace=False)\n",
    "    perturbation = np.ones(len(split))\n",
    "    for index in indices:\n",
    "        perturbation[index] = 0\n",
    "    z_line.append(perturbation)\n",
    "    text = ' '.join([word for (j, word) in enumerate(split) if perturbation[j]])\n",
    "    f_z.append(f(text))\n",
    "    pi_x.append(pi(vector.transform([example])[0], vector.transform([text])[0]))"
   ]
  },
  {
   "cell_type": "markdown",
   "id": "systematic-transcription",
   "metadata": {},
   "source": [
    "### Linear optimization"
   ]
  },
  {
   "cell_type": "markdown",
   "id": "junior-provider",
   "metadata": {},
   "source": [
    "## References\n",
    "\n",
    "- https://arxiv.org/pdf/1602.04938.pdf\n",
    "- https://www.kaggle.com/lakshmi25npathi/imdb-dataset-of-50k-movie-reviews\n",
    "- https://vanderbei.princeton.edu/tex/talks/MOPTA14/L1_reg.pdf"
   ]
  }
 ],
 "metadata": {
  "kernelspec": {
   "display_name": "Python 3",
   "language": "python",
   "name": "python3"
  },
  "language_info": {
   "codemirror_mode": {
    "name": "ipython",
    "version": 3
   },
   "file_extension": ".py",
   "mimetype": "text/x-python",
   "name": "python",
   "nbconvert_exporter": "python",
   "pygments_lexer": "ipython3",
   "version": "3.8.8"
  },
  "toc": {
   "base_numbering": 1,
   "nav_menu": {},
   "number_sections": false,
   "sideBar": true,
   "skip_h1_title": true,
   "title_cell": "Table of Contents",
   "title_sidebar": "Contents",
   "toc_cell": true,
   "toc_position": {},
   "toc_section_display": true,
   "toc_window_display": false
  }
 },
 "nbformat": 4,
 "nbformat_minor": 5
}
