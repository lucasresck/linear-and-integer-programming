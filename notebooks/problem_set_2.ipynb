{
 "cells": [
  {
   "cell_type": "markdown",
   "id": "turned-woman",
   "metadata": {},
   "source": [
    "# Problem set 2\n",
    "\n",
    "Network models of linear and integer programming."
   ]
  },
  {
   "cell_type": "markdown",
   "id": "psychological-schema",
   "metadata": {
    "toc": true
   },
   "source": [
    "<h1>Table of Contents<span class=\"tocSkip\"></span></h1>\n",
    "<div class=\"toc\"><ul class=\"toc-item\"><li><span><a href=\"#Chapter-8---Network-Models\" data-toc-modified-id=\"Chapter-8---Network-Models-1\">Chapter 8 - Network Models</a></span><ul class=\"toc-item\"><li><span><a href=\"#Exercise-7\" data-toc-modified-id=\"Exercise-7-1.1\">Exercise 7</a></span></li></ul></li><li><span><a href=\"#Reference\" data-toc-modified-id=\"Reference-2\">Reference</a></span></li></ul></div>"
   ]
  },
  {
   "cell_type": "markdown",
   "id": "offshore-suffering",
   "metadata": {},
   "source": [
    "## Chapter 8 - Network Models"
   ]
  },
  {
   "cell_type": "markdown",
   "id": "unlike-investment",
   "metadata": {},
   "source": [
    "### Exercise 7\n",
    "\n",
    "An automobile association is organizing a series of car races that will last for four days.\n",
    "The organizers know that $r_j \\ge 0$ special tires in good condition will be required on each of the four successive days, $j = 1, 2, 3, 4$.\n",
    "They can meet these needs either by buying new tires at $P$ dollars apiece or by reshaping used tires (reshaping is a technique by which the grooves on the tire are deepened, using a special profile-shaped tool).\n",
    "Two kinds of service are available for reshaping:\n",
    "normal service, which takes one full day at $N$ dollars a tire, and quick service, which takes overnight at $Q$ dollars a tire.\n",
    "How should the association, which starts out with no special tires, meet the daily requirements at minimal cost?"
   ]
  },
  {
   "cell_type": "markdown",
   "id": "expanded-lingerie",
   "metadata": {},
   "source": [
    "**(a)** Formulate a mathematical model for the above problem.\n",
    "Does it exhibit the characteristics of a network problem?\n",
    "Why?\n",
    "(Hint.\n",
    "Take into account the fact that, at the end of day $j$, some used tires may not be sent to reshaping.)"
   ]
  },
  {
   "cell_type": "markdown",
   "id": "tropical-monster",
   "metadata": {},
   "source": [
    "**Solução:**\n",
    "\n",
    "The formulation as a network model is as follows.\n",
    "\n",
    "<img src=\"../images/mit_problem_7.png\" alt=\"Drawing\" style=\"width: 600px;\"/>\n",
    "\n",
    "There are a node for the tires store, one node for each day and also one node for each day stock.\n",
    "\n",
    "The stock can send tires to each day, with no restriction in number of tires sold and also no limits to transportation to it day, but each tire costs $P$.\n",
    "\n",
    "All used tires in one day must be sent to day stock, so the number of tires in node day $i$ is zero. Each stock must send all tires to another stock or another day (through normal or quick services), so the number of tires in each stock is zero (except for last day stock, with must have $\\ge 0$ tires).\n",
    "\n",
    "The transportation among stocks has no limits in number and it is free. The reshaping from each stock to a specific day is unlimited, mas costs $Q$ for quick service, and $N$ for normal service.\n",
    "\n",
    "**Aditional constraints are necessary**: The number of tires leaving day $i$ must be greater than or equal to $r_i$. This aditional constraint grants that each day will have its tires. So we add a minimum flow to the transportation at the end of each day."
   ]
  },
  {
   "cell_type": "markdown",
   "id": "impressed-drove",
   "metadata": {},
   "source": [
    "**(b)** If the answer to **(a)** is no, how can the formulation be manipulated to become a network problem?\n",
    "Draw the associated network.\n",
    "(Hint.\n",
    "Add a redundant constraint introducing a fictitious node.)"
   ]
  },
  {
   "cell_type": "markdown",
   "id": "rental-footwear",
   "metadata": {},
   "source": [
    "**Solução:**"
   ]
  },
  {
   "cell_type": "markdown",
   "id": "equivalent-joshua",
   "metadata": {},
   "source": [
    "**(c)** Assume that a tire may be reshaped only once.\n",
    "How does the above model change?\n",
    "Will it still be network problem?"
   ]
  },
  {
   "cell_type": "markdown",
   "id": "protective-renewal",
   "metadata": {},
   "source": [
    "**Solução:**"
   ]
  },
  {
   "cell_type": "markdown",
   "id": "drawn-austria",
   "metadata": {},
   "source": [
    "## Reference\n",
    "\n",
    "```bibtex\n",
    "@book{bradley1977applied,\n",
    "  title={Applied mathematical programming},\n",
    "  author={Bradley, Stephen P and Hax, Arnoldo C and Magnanti, Thomas L},\n",
    "  year={1977},\n",
    "  publisher={Addison-Wesley}\n",
    "}\n",
    "```"
   ]
  }
 ],
 "metadata": {
  "kernelspec": {
   "display_name": "Julia 1.5.3",
   "language": "julia",
   "name": "julia-1.5"
  },
  "language_info": {
   "file_extension": ".jl",
   "mimetype": "application/julia",
   "name": "julia",
   "version": "1.5.3"
  },
  "toc": {
   "base_numbering": 1,
   "nav_menu": {},
   "number_sections": false,
   "sideBar": true,
   "skip_h1_title": true,
   "title_cell": "Table of Contents",
   "title_sidebar": "Contents",
   "toc_cell": true,
   "toc_position": {},
   "toc_section_display": true,
   "toc_window_display": false
  }
 },
 "nbformat": 4,
 "nbformat_minor": 5
}
