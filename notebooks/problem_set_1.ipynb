{
 "cells": [
  {
   "cell_type": "markdown",
   "id": "biological-portugal",
   "metadata": {},
   "source": [
    "# Problem set 1\n",
    "\n",
    "Linear and integer programming problems."
   ]
  },
  {
   "cell_type": "markdown",
   "id": "clinical-queensland",
   "metadata": {
    "toc": true
   },
   "source": [
    "<h1>Table of Contents<span class=\"tocSkip\"></span></h1>\n",
    "<div class=\"toc\"><ul class=\"toc-item\"><li><span><a href=\"#1.2-Linear-programs\" data-toc-modified-id=\"1.2-Linear-programs-1\">1.2 Linear programs</a></span><ul class=\"toc-item\"><li><span><a href=\"#Exercise-2\" data-toc-modified-id=\"Exercise-2-1.1\">Exercise 2</a></span></li><li><span><a href=\"#Exercise-6\" data-toc-modified-id=\"Exercise-6-1.2\">Exercise 6</a></span></li></ul></li><li><span><a href=\"#1.3-Integer-programming\" data-toc-modified-id=\"1.3-Integer-programming-2\">1.3 Integer programming</a></span><ul class=\"toc-item\"><li><span><a href=\"#Exercise-1\" data-toc-modified-id=\"Exercise-1-2.1\">Exercise 1</a></span></li><li><span><a href=\"#Exercise-6\" data-toc-modified-id=\"Exercise-6-2.2\">Exercise 6</a></span></li><li><span><a href=\"#Exercise-8\" data-toc-modified-id=\"Exercise-8-2.3\">Exercise 8</a></span></li></ul></li><li><span><a href=\"#Reference\" data-toc-modified-id=\"Reference-3\">Reference</a></span></li></ul></div>"
   ]
  },
  {
   "cell_type": "code",
   "execution_count": 1,
   "id": "higher-impossible",
   "metadata": {},
   "outputs": [],
   "source": [
    "# We import the libraries\n",
    "using Cbc, JuMP"
   ]
  },
  {
   "cell_type": "markdown",
   "id": "activated-option",
   "metadata": {},
   "source": [
    "## 1.2 Linear programs"
   ]
  },
  {
   "cell_type": "markdown",
   "id": "touched-sellers",
   "metadata": {},
   "source": [
    "### Exercise 2\n",
    "\n",
    "*MUCOW (Milk Undertakings, C and O, Waterloo) owns a herd of Holstein cows and a herd of Jersey cows.\n",
    "For each herd, the total number of litres produced each day, and milk-fat content (as a percentage) are as\n",
    "follows:*\n",
    "\n",
    "|  | Litres produced | Percent milk-fat |\n",
    "| :-: | :-: | :-: |\n",
    "| Holstein | 500 | 3.7\n",
    "| Jersey | 250 | 4.9\n",
    "\n",
    "*The fat is split off and blended again to create various products.\n",
    "For each product, the volume, required milk-fat percentage, and profit are as follows.\n",
    "In particular, the milk-fat percentage must exactly equal what is specified.*\n",
    "\n",
    "|  | Skimmed milk | 2% | Whole milk | Table cream | Whipping cream |\n",
    "| :-: | :-: | :-: | :-: | :-: | :-: |\n",
    "| Volume (litres) | 2 | 2 | 2 | 0.6 | 0.3 |\n",
    "| Milk-fat requirement | 0% | 2% | 4% | 15% | 45% |\n",
    "| Profit ($) | 0.1 | 0.15 | 0.2 | 0.5 | 1.2 |"
   ]
  },
  {
   "cell_type": "markdown",
   "id": "figured-image",
   "metadata": {},
   "source": [
    "***(a)*** *Formulate as an LP the problem of deciding how many items of each type to produce, so that the total profit is maximized.\n",
    "Don’t worry about fractional numbers of items.\n",
    "Write your formulation in matrix notation.*"
   ]
  },
  {
   "cell_type": "markdown",
   "id": "grand-blast",
   "metadata": {},
   "source": [
    "Consider $x_1, \\cdots, x_5$ the number of skimmed milk, ..., whipping cream, respectively.\n",
    "We want to maximize the profit:\n",
    "\n",
    "$$\\text{maximize } 0.1 x_1 + 0.15 x_2 + 0.2 x_3 + 0.5 x_4 + 1.2 x_5$$\n",
    "\n",
    "If we split the milk and fat, we have $30.75 L$ of fat and $719.25 L$ of \"pure\" milk.\n",
    "So we write the constraints for fat and milk separately:\n",
    "\n",
    "$$0 x_1 + 0.04 x_2 + 0.08 x_3 + 0.09 x_4 + 0.135 x_5 \\le 30.75$$\n",
    "\n",
    "$$2 x_1 + 1.96 x_2 + 1.92 x_3 + 0.51 x_4 + 0.165 x_5 \\le 719.25$$\n",
    "\n",
    "That is, if we solve this linear problem, we have how many of each product we can produce with the possible milk and fat, in the correct proportions milk-fat.\n",
    "\n",
    "Let's solve this:"
   ]
  },
  {
   "cell_type": "code",
   "execution_count": 2,
   "id": "handy-photograph",
   "metadata": {
    "scrolled": false
   },
   "outputs": [
    {
     "name": "stdout",
     "output_type": "stream",
     "text": [
      "\n",
      "Profit: 307.4166666666666\n",
      "x_1 qty: 340.8333333333333\n",
      "x_2 qty: 0.0\n",
      "x_3 qty: 0.0\n",
      "x_4 qty: 0.0\n",
      "x_5 qty: 227.77777777777774\n"
     ]
    }
   ],
   "source": [
    "m = Model(with_optimizer(Cbc.Optimizer, logLevel = 0))\n",
    "\n",
    "# Number of each product\n",
    "@variable(m, x[1:5] >= 0)\n",
    "\n",
    "# Maximize the profit\n",
    "@objective(m, Max, 0.1x[1] + 0.15x[2] + 0.2x[3] + 0.5x[4] + 1.2x[5])\n",
    "\n",
    "# Constraint of fat\n",
    "@constraint(m, 0.04x[2] + 0.08x[3] + 0.09x[4] + 0.135x[5] <= 30.75)\n",
    "# Constraint of milk\n",
    "@constraint(m, 2x[1] + 1.96x[2] + 1.92x[3] + 0.51x[4] + 0.165x[5] <= 719.25)\n",
    "\n",
    "optimize!(m)\n",
    "\n",
    "println(\"\\nProfit: \", objective_value(m))\n",
    "for i=1:5\n",
    "    println(\"x_$i qty: \", value(x[i]))\n",
    "end"
   ]
  },
  {
   "cell_type": "markdown",
   "id": "private-documentary",
   "metadata": {},
   "source": [
    "So the solution is to use all fat for whipping cream and use the rest of the milk to produce skimmed milk."
   ]
  },
  {
   "cell_type": "markdown",
   "id": "employed-senior",
   "metadata": {},
   "source": [
    "***(b)*** *MUCOW is told of a regulation change: 'skimmed milk' can now contain anything up to 0.1\\% milk-fat, but no more.\n",
    "How does the formulation of the problem change? Note the resulting formulation should also be an LP.*"
   ]
  },
  {
   "cell_type": "markdown",
   "id": "documentary-chamber",
   "metadata": {},
   "source": [
    "We could change the above approach to include a variable with the milk-fat percentage for skimmed milk, but the problem would not be linear.\n",
    "Instead, we create another problem.\n",
    "We try to maximize the same objective function, but we include variables $M_1, \\cdots, M_5, f_1, \\cdots, f_5$ for the \"pure\" milk and fat used by each kind of product.\n",
    "We create the restrictions of milk and fat:\n",
    "\n",
    "$$\\sum_{i = 1}^5 M_i \\le 719.25, \\ \\ \\sum_{i = 1}^5 f_i \\le 30.75$$\n",
    "\n",
    "The milk-fat requirements must be satisfied:\n",
    "\n",
    "$$0 \\le \\frac{f_1}{M_1 + f_1} \\le 0.001$$\n",
    "\n",
    "$$\\frac{f_2}{M_2 + f_2} = 0.02, \\ \\ \\frac{f_3}{M_3 + f_3} = 0.04, \\ \\ \\frac{f_4}{M_4 + f_4} = 0.15, \\ \\ \\frac{f_5}{M_5 + f_5} = 0.45$$\n",
    "\n",
    "We also calculate the number of each product:\n",
    "\n",
    "$$x_1 = \\frac{M_1 + f_1}{2}, \\ \\ x_2 = \\frac{M_2 + f_2}{2}, \\ \\ x_3 = \\frac{M_3 + f_3}{2}, \\ \\ x_4 = \\frac{M_4 + f_4}{0.6}, \\ \\ x_5 = \\frac{M_5 + f_5}{0.3}$$"
   ]
  },
  {
   "cell_type": "code",
   "execution_count": 3,
   "id": "norwegian-prairie",
   "metadata": {
    "scrolled": false
   },
   "outputs": [
    {
     "name": "stdout",
     "output_type": "stream",
     "text": [
      "\n",
      "Profit: 307.41666666666663\n",
      "x_1 qty: 340.8333333333333\n",
      "x_2 qty: 0.0\n",
      "x_3 qty: 0.0\n",
      "x_4 qty: 0.0\n",
      "x_5 qty: 227.77777777777777\n",
      "Milk-fat skimmed milk: 0.0\n"
     ]
    }
   ],
   "source": [
    "m = Model(with_optimizer(Cbc.Optimizer, logLevel = 0))\n",
    "\n",
    "# Number of each product\n",
    "@variable(m, x[1:5] >= 0)\n",
    "# Amount of milk\n",
    "@variable(m, M[1:5] >= 0)\n",
    "# Amount of fat\n",
    "@variable(m, f[1:5] >= 0)\n",
    "\n",
    "# Maximize the profit\n",
    "@objective(m, Max, 0.1x[1] + 0.15x[2] + 0.2x[3] + 0.5x[4] + 1.2x[5])\n",
    "\n",
    "# Constraint of fat\n",
    "@constraint(m, sum(f[1:5]) <= 30.75)\n",
    "# Constraint of milk\n",
    "@constraint(m, sum(M[1:5]) <= 719.25)\n",
    "# Milk-fat requirements\n",
    "@constraint(m, f[1] <= 0.001M[1] + 0.001f[1])\n",
    "@constraint(m, f[2] == 0.02M[2] + 0.02f[2])\n",
    "@constraint(m, f[3] == 0.04M[3] + 0.04f[3])\n",
    "@constraint(m, f[4] == 0.15M[4] + 0.15f[4])\n",
    "@constraint(m, f[5] == 0.45M[5] + 0.45f[5])\n",
    "# Number of each product\n",
    "@constraint(m, 2x[1] == M[1] + f[1])\n",
    "@constraint(m, 2x[2] == M[2] + f[2])\n",
    "@constraint(m, 2x[3] == M[3] + f[3])\n",
    "@constraint(m, 0.6x[4] == M[4] + f[4])\n",
    "@constraint(m, 0.3x[5] == M[5] + f[5])\n",
    "\n",
    "optimize!(m)\n",
    "\n",
    "println(\"\\nProfit: \", objective_value(m))\n",
    "for i=1:5\n",
    "    println(\"x_$i qty: \", value(x[i]))\n",
    "end\n",
    "println(\"Milk-fat skimmed milk: \", value(f[1])/(value(f[1]) + value(M[1])))"
   ]
  },
  {
   "cell_type": "markdown",
   "id": "ecological-saudi",
   "metadata": {},
   "source": [
    "The solution to the last exercise was to use all fat for whipping cream and use the rest of the milk to produce skimmed milk.\n",
    "The same here!\n",
    "\n",
    "With respect to the last exercise, we allowed the sollution to give some fat to skimmed milk.\n",
    "For each whipping cream, it is necessary $0.135 L$ of fat to gain $\\$1.2$.\n",
    "It is not worth it to use $0.1 L$ of fat to gain $\\$0.1$ with skimmed milk."
   ]
  },
  {
   "cell_type": "markdown",
   "id": "fifteen-surge",
   "metadata": {},
   "source": [
    "### Exercise 6\n",
    "\n",
    "We are given an $m$ by $n$ matrix $A$ and a vector $b$ in $\\mathbb{R}^m$, for which the system $Ax = b$ has no solution.\n",
    "Here is an example:\n",
    "\n",
    "$$\\begin{cases}\n",
    "    2x_1 - x_2 = -1 \\\\\n",
    "    x_1 + x_2 = 1 \\\\\n",
    "    x_1 + 3x_2 = 4 \\\\\n",
    "    -2x_1 + 4x_2 = 3\n",
    "\\end{cases}$$\n",
    "\n",
    "We are interested in finding a vector $x \\in \\mathbb{R}^n$ that \"comes close\" to solving the system.\n",
    "Namely, we want to find an $x \\in \\mathbb{R}^n$ whose *deviation* is mininum, and where the deviation of $x$ is defined to be\n",
    "\n",
    "$$\\sum_{i=1}^n\\left|b_i - \\sum_{j=1}^na_{ij}x_j\\right|$$\n",
    "\n",
    "(For the example system above, the vector $x = (1, 1)^\\intercal$ has deviation $2 + 1 + 0 + 1 = 4$.)"
   ]
  },
  {
   "cell_type": "markdown",
   "id": "electronic-combine",
   "metadata": {},
   "source": [
    "***(a)*** *Show that a solution to the optimization problem*\n",
    "\n",
    "$$\\begin{aligned}\n",
    "    &\\text{minimize} & & \\sum_{i=1}^{m} y_i \\\\\n",
    "    &\\text{subject to} & & \\\\\n",
    "    & & & \\left|\\sum_{j=1}^n a_{ij} x_j - b_i\\right| \\le y_i, \\ \\ \\ \\ i = 1, \\cdots, m\n",
    "\\end{aligned}$$\n",
    "\n",
    "*will give a vector $x$ of minimum deviation.*"
   ]
  },
  {
   "cell_type": "markdown",
   "id": "published-pride",
   "metadata": {},
   "source": [
    "Note that \n",
    "\n",
    "$$\\text{minimize} \\ \\sum_{i=1}^n\\left|b_i - \\sum_{j=1}^na_{ij}x_j\\right|$$\n",
    "\n",
    "is the same as\n",
    "\n",
    "$$\\begin{aligned}\n",
    "    &\\text{minimize} & & \\sum_{i=1}^{m} y_i \\\\\n",
    "    &\\text{subject to} & & \\\\\n",
    "    & & & \\left|\\sum_{j=1}^n a_{ij} x_j - b_i\\right| = y_i, \\ \\ \\ \\ i = 1, \\cdots, m\n",
    "\\end{aligned}$$\n",
    "\n",
    "which has the same optimal solution (when it exists) as\n",
    "\n",
    "$$\\begin{aligned}\n",
    "    &\\text{minimize} & & \\sum_{i=1}^{m} y_i \\\\\n",
    "    &\\text{subject to} & & \\\\\n",
    "    & & & \\left|\\sum_{j=1}^n a_{ij} x_j - b_i\\right| \\le y_i, \\ \\ \\ \\ i = 1, \\cdots, m\n",
    "\\end{aligned}$$"
   ]
  },
  {
   "cell_type": "markdown",
   "id": "revised-curtis",
   "metadata": {},
   "source": [
    "***(b)*** *The problem of part **(a)** is not a LP.\n",
    "(Why?)\n",
    "Show that it can be formulated as an LP.*"
   ]
  },
  {
   "cell_type": "markdown",
   "id": "homeless-plasma",
   "metadata": {},
   "source": [
    "The problem of **(a)** is not LP because of the absolute value.\n",
    "But it is simple to make it LP:\n",
    "\n",
    "$$\\begin{aligned}\n",
    "&\\text{minimize} & & \\sum_{i=1}^{m} y_i \\\\\n",
    "&\\text{subject to} & & \\\\\n",
    "& & & \\sum_{j=1}^n a_{ij} x_j - b_i \\le y_i, \\ \\ \\ \\ i = 1, \\cdots, m \\\\\n",
    "& & & -y_i \\le \\sum_{j=1}^n a_{ij} x_j - b_i, \\ \\ \\ \\ i = 1, \\cdots, m\n",
    "\\end{aligned}$$"
   ]
  },
  {
   "cell_type": "markdown",
   "id": "boring-notebook",
   "metadata": {},
   "source": [
    "***(c)*** *Suppose that we had instead defined the deviation of $x$ as*\n",
    "\n",
    "$$\\max_{1 \\le i \\le m} \\left| b_i - \\sum_{j = 1}^n a_{ij} x_j \\right|$$\n",
    "\n",
    "*(According to this definition, in the example above $x = (1, 1)^\\intercal$ would have deviation $\\max\\{2, 1, 0, 1\\} = 2$.)\n",
    "With this new definition, write the problem of finding a vector of minimum deviation as an optimization problem, and show that this problem can also be formulated as an LP.*"
   ]
  },
  {
   "cell_type": "markdown",
   "id": "worthy-attempt",
   "metadata": {},
   "source": [
    "The problem can be formulated as\n",
    "\n",
    "$$\\text{minimize} \\ \\max_{1 \\le i \\le m} \\left| b_i - \\sum_{j = 1}^n a_{ij} x_j \\right|$$\n",
    "\n",
    "When can do a trick in order to make it LP:\n",
    "\n",
    "$$\\begin{aligned}\n",
    "    &\\text{minimize} & & y \\\\\n",
    "    &\\text{subject to} & & \\\\\n",
    "    & & & \\left| b_i - \\sum_{j = 1}^n a_{ij} x_j \\right| \\le y, \\ \\ \\ \\ i = 1, \\cdots, m\n",
    "\\end{aligned}$$"
   ]
  },
  {
   "cell_type": "markdown",
   "id": "fifteen-transsexual",
   "metadata": {},
   "source": [
    "## 1.3 Integer programming"
   ]
  },
  {
   "cell_type": "markdown",
   "id": "stone-tanzania",
   "metadata": {},
   "source": [
    "### Exercise 1\n",
    "\n",
    "*You are about to trek across the desert with a vehicle having $3.6$ cubic metres ($3.6 \\text{m}^3$) of cargo space for goods.\n",
    "There are various types of items available for putting in this space, each with a different volume and a different net value for your trip, shown as follows:*\n",
    "\n",
    "| Item type $i$ | 1 | 2 | 3 | 4 | 5 | 6 | 7 |\n",
    "| :-: | :-: | :-: | :-: | :-: | :-: | :-: | :-: |\n",
    "| Volume $v_i$ ($\\text{m}^3$) | 0.55 | 0.6 | 0.7 | 0.75 | 0.85 | 0.9 | 0.95 |\n",
    "| Net value $n_i$ | 250 | 300 | 500 | 700 | 750 | 900 | 950 |"
   ]
  },
  {
   "cell_type": "markdown",
   "id": "arbitrary-means",
   "metadata": {},
   "source": [
    "***(a)*** *You need to decide which items to take, not exceeding the volume constraint.\n",
    "You can take at most one of any item.\n",
    "No item can be split into fractions.\n",
    "The total net value must be maximized.\n",
    "Formulate this problem as an LP or IP.\n",
    "(You may use the notation $v_i$ and $n_i$ for volume and net value of item $i$.)*"
   ]
  },
  {
   "cell_type": "markdown",
   "id": "flexible-china",
   "metadata": {},
   "source": [
    "Let $x_1, \\cdots, x_7$ be binnary variables indicating if the item $i$ is taken.\n",
    "So we want to\n",
    "\n",
    "$$\\begin{aligned}\n",
    "    &\\text{maximize} & & \\sum_{i = 1}^7 n_i x_i \\\\\n",
    "    &\\text{subject to} & & \\\\\n",
    "    & & & \\sum_{i = 1}^7 v_i x_i \\le 3.6\n",
    "\\end{aligned}$$\n",
    "\n",
    "Let's see the implementation in Julia:"
   ]
  },
  {
   "cell_type": "code",
   "execution_count": 4,
   "id": "successful-major",
   "metadata": {},
   "outputs": [
    {
     "name": "stdout",
     "output_type": "stream",
     "text": [
      "Net value: 3300.0\n",
      "x_1 qty: 0.0\n",
      "x_2 qty: 0.0\n",
      "x_3 qty: 0.0\n",
      "x_4 qty: 1.0\n",
      "x_5 qty: 1.0\n",
      "x_6 qty: 1.0\n",
      "x_7 qty: 1.0\n"
     ]
    }
   ],
   "source": [
    "m = Model(with_optimizer(Cbc.Optimizer, logLevel = 0))\n",
    "\n",
    "n = [250, 300, 500, 700, 750, 900, 950]\n",
    "v = [0.55, 0.6, 0.7, 0.75, 0.85, 0.9, 0.95]\n",
    "\n",
    "# Indicator if item is in the car\n",
    "@variable(m, x[1:7], Bin)\n",
    "\n",
    "# Maximize the net value\n",
    "@objective(m, Max, sum(n.*x))\n",
    "\n",
    "# Constraint of volume\n",
    "@constraint(m, sum(v.*x) <= 3.6)\n",
    "\n",
    "optimize!(m)\n",
    "\n",
    "println(\"Net value: \", objective_value(m))\n",
    "for i=1:7\n",
    "    println(\"x_$i qty: \", value(x[i]))\n",
    "end"
   ]
  },
  {
   "cell_type": "markdown",
   "id": "rapid-summit",
   "metadata": {},
   "source": [
    "***(b)*** *Your two friends have decided to come as well, each with an identical vehicle.\n",
    "There are exactly two items of each type.\n",
    "The question is, can you fit all 14 items in the vehicles without exceeding the volume constraints?\n",
    "No cutting items into pieces is permitted!\n",
    "Each item taken must be placed entirely in one of the vehicles.\n",
    "Formulate an LP or IP that has a feasible solution if and only if the items can be packed as desired.\n",
    "Describe how to determine from a feasible solution how to pack the items into the vehicles.\n",
    "Note that net value is ignored for part **(b)**.*"
   ]
  },
  {
   "cell_type": "markdown",
   "id": "rational-company",
   "metadata": {},
   "source": [
    "We start with a generic objetive function of $\\text{maximize } 0$, because we are only looking for feasible solutions.\n",
    "\n",
    "Let $x_1, \\cdots, x_7 \\in \\{0, 1, 2\\}$ be integer variables indicating how many items of each type are in car $1$.\n",
    "Similarly, $y_1, \\cdots, y_7 \\in \\{0, 1, 2\\}$ for car $2$ and $z_1, \\cdots, z_7 \\in \\{0, 1, 2\\}$ for car $3$.\n",
    "So, for each $i = 1, \\cdots, 7$, we have that $x_i + y_i + z_i = 2$, that is, there are exactly two items of each type.\n",
    "\n",
    "We also add the volume constraints:\n",
    "\n",
    "$$\\sum_{i = 1}^7 v_i x_i \\le 3.6, \\ \\ \\ \\ \\sum_{i = 1}^7 v_i y_i \\le 3.6, \\ \\ \\ \\ \\sum_{i = 1}^7 v_i z_i \\le 3.6$$\n",
    "\n",
    "Let's see if the problem is feasible:"
   ]
  },
  {
   "cell_type": "code",
   "execution_count": 5,
   "id": "cheap-class",
   "metadata": {},
   "outputs": [
    {
     "name": "stdout",
     "output_type": "stream",
     "text": [
      "x_1 qty: 0.0\n",
      "y_1 qty: 0.0\n",
      "z_1 qty: 2.0\n",
      "x_2 qty: 2.0\n",
      "y_2 qty: 0.0\n",
      "z_2 qty: 0.0\n",
      "x_3 qty: 1.0\n",
      "y_3 qty: 0.0\n",
      "z_3 qty: 1.0\n",
      "x_4 qty: 2.0\n",
      "y_4 qty: 0.0\n",
      "z_4 qty: 0.0\n",
      "x_5 qty: 0.0\n",
      "y_5 qty: 1.0\n",
      "z_5 qty: 1.0\n",
      "x_6 qty: 0.0\n",
      "y_6 qty: 2.0\n",
      "z_6 qty: 0.0\n",
      "x_7 qty: 0.0\n",
      "y_7 qty: 1.0\n",
      "z_7 qty: 1.0\n"
     ]
    }
   ],
   "source": [
    "m = Model(with_optimizer(Cbc.Optimizer, logLevel = 0))\n",
    "\n",
    "# Indicator of how many items are in car 1\n",
    "@variable(m, 0 <= x[1:7] <= 2, Int)\n",
    "# Indicator of how many items are in car 2\n",
    "@variable(m, 0 <= y[1:7] <= 2, Int)\n",
    "# Indicator of how many items are in car 3\n",
    "@variable(m, 0 <= z[1:7] <= 2, Int)\n",
    "\n",
    "# Without objective function\n",
    "# We are looking for feasibility only\n",
    "\n",
    "# Constraint of volume\n",
    "@constraint(m, sum(v.*x) <= 3.6)\n",
    "@constraint(m, sum(v.*y) <= 3.6)\n",
    "@constraint(m, sum(v.*z) <= 3.6)\n",
    "\n",
    "# For each item, there must be two of them\n",
    "for i in 1:7\n",
    "    @constraint(m, x[i] + y[i] + z[i] == 2)\n",
    "end\n",
    "\n",
    "optimize!(m)\n",
    "\n",
    "for i=1:7\n",
    "    println(\"x_$i qty: \", value(x[i]))\n",
    "    println(\"y_$i qty: \", value(y[i]))\n",
    "    println(\"z_$i qty: \", value(z[i]))\n",
    "end"
   ]
  },
  {
   "cell_type": "markdown",
   "id": "rental-horizon",
   "metadata": {},
   "source": [
    "The problem seems to be feasible."
   ]
  },
  {
   "cell_type": "markdown",
   "id": "ranking-progress",
   "metadata": {},
   "source": [
    "### Exercise 6\n",
    "\n",
    "*Consider an LP with variables $x_1, x_2, x_3, x_4$.\n",
    "Suppose that the LP includes the constraints $x_1, x_2, x_3, x_4 \\ge 0$.*"
   ]
  },
  {
   "cell_type": "markdown",
   "id": "incorporated-nerve",
   "metadata": {},
   "source": [
    "***(a)*** *Consider the constraint:*\n",
    "\n",
    "$$x_4 \\ge |x_3 − 2x_1|.$$\n",
    "\n",
    "*Suppose that we want to add to the LP the condition that the constraint is satisfied.\n",
    "Show how to satisfy this requirement so that the resulting formulation is a LP.*\n",
    "\n",
    "*Hint: rewrite the constraint as a pair of linear inequalities.*"
   ]
  },
  {
   "cell_type": "markdown",
   "id": "fuzzy-racing",
   "metadata": {},
   "source": [
    "The pair of inequalities is\n",
    "\n",
    "$$x_4 \\ge x_3 − 2x_1, \\ \\ \\ \\ - x_4 \\le x_3 − 2x_1$$"
   ]
  },
  {
   "cell_type": "markdown",
   "id": "after-withdrawal",
   "metadata": {},
   "source": [
    "***(b)*** *Consider the following inequalities:*\n",
    "\n",
    "$$6x_1 + 2x_2 + 3x_3 + 3x_4 \\ge 3,$$\n",
    "\n",
    "$$2x_1 + 4x_2 + 2x_3 + 7x_4 \\ge 9.$$\n",
    "\n",
    "*Suppose that we want to add to an IP the condition that at least one of\n",
    "constraints above is satisfied.\n",
    "Show how to satisfy this requirement so that the resulting formulation is an IP.*\n",
    "\n",
    "*Hint: add a binary variable indicating whether the above constraints must be satisfied.\n",
    "Note that the left-hand side of either constraint is always nonnegative.*"
   ]
  },
  {
   "cell_type": "markdown",
   "id": "promising-tunisia",
   "metadata": {},
   "source": [
    "We can add the binnary variables $y_1, y_2 \\in \\{0, 1\\}$ so that\n",
    "\n",
    "$$6x_1 + 2x_2 + 3x_3 + 3x_4 \\ge 3 y_1,$$\n",
    "\n",
    "$$2x_1 + 4x_2 + 2x_3 + 7x_4 \\ge 9 y_2.$$\n",
    "\n",
    "If $y_i$ is $0$, the constraint is useless (left-hand side nonnegative).\n",
    "If $y_i$ is $1$, the constraint is added, as required.\n",
    "\n",
    "We also ask that at least one of the constraints is satisfied:\n",
    "\n",
    "$$y_1 + y_2 \\ge 1.$$"
   ]
  },
  {
   "cell_type": "markdown",
   "id": "typical-dover",
   "metadata": {},
   "source": [
    "****(c)**** *Suppose that for $i = 1, \\cdots, k$ we have a non-negative vector $a^i$ with\n",
    "four entries and a number $\\beta_i$ (both $a^i$ and $\\beta_i$ are constants).\n",
    "Let $r$ be any number between $1$ and $k$.\n",
    "Consider the following set of inequalities:*\n",
    "\n",
    "$$a_i^\\intercal x \\ge \\beta_i, \\ \\ \\ \\ i = 1, \\cdots, k.$$\n",
    "\n",
    "*We want to add to an IP the condition that at least $r$ of the constraints are satisfied.\n",
    "Show how to satisfy this requirement so that the resulting formulation is an IP.*\n",
    "\n",
    "*Hint: add a binary variable for each constraint.*"
   ]
  },
  {
   "cell_type": "markdown",
   "id": "unique-baker",
   "metadata": {},
   "source": [
    "We can use binnary variables $y_i, \\ i = 1, \\cdots, k$ to indicate if the constraints are being satisfied.\n",
    "They indicate are follows:\n",
    "\n",
    "$$a_i^\\intercal x \\ge \\beta_i y_i, \\ \\ \\ \\ i = 1, \\cdots, k.$$\n",
    "\n",
    "So we ask that at least $r$ constraints are activated:\n",
    "\n",
    "$$\\sum_{i = 1}^k y_i \\ge r.$$\n",
    "\n",
    "We know the left-hand side is always nonnegative.\n",
    "In the case $\\beta_i$ is positive, $y_1 = 0$ means the constraint is useless, and $y_1 = 1$ means the constraint is activated.\n",
    "\n",
    "When $\\beta_i$ is non positive, it does not matter the value of $y_i$, because the presented contsraint will always be satified.\n",
    "So $y_i$ must be forced to be $1$ in these cases: $y_i = 1$, if $\\beta_i \\le 0$."
   ]
  },
  {
   "cell_type": "markdown",
   "id": "ethical-serial",
   "metadata": {},
   "source": [
    "***(d)*** *Consider the following set of values:*\n",
    "\n",
    "$$\\mathscr{S} \\colon= \\{3, 9, 17, 19, 36, 67, 1893\\}.$$\n",
    "\n",
    "*Suppose that we want to add to an IP the condition that the variable $x$ takes only one of the values in $\\mathscr{S}$.\n",
    "Show how to satisfy this requirement so that the resulting formulation is an IP.*\n",
    "\n",
    "*Hint: add a binary variables for each number in the set $\\mathscr{S}$.*"
   ]
  },
  {
   "cell_type": "markdown",
   "id": "according-seventh",
   "metadata": {},
   "source": [
    "We want $x = 3$ or $x = 9$ or $\\cdots$ or $x = 1893$.\n",
    "We create binnary variables $y_1, \\cdots, y_7$ so that\n",
    "\n",
    "$$\\begin{aligned}\n",
    "    x &= 3 y_1 + \\cdots + 1893 y_7, \\\\\n",
    "    \\sum_{i = 1}^7 y_i &= 1\n",
    "\\end{aligned}$$"
   ]
  },
  {
   "cell_type": "markdown",
   "id": "transsexual-calcium",
   "metadata": {},
   "source": [
    "### Exercise 8\n",
    "\n",
    "*A company won a government bid to meet the yearly demands $d_1, d_2, \\cdots, d_n$ in the areas $j \\in \\{1, 2, \\cdots, n\\}$.\n",
    "Now the company has to decide where to build its factories and how much of each factory’s output will be shipped to which of these $n$ areas.*\n",
    "\n",
    "*There are $m$ potential locations for building the factories.\n",
    "If the company decides to build at location $i \\in \\{1, 2, \\cdots, m\\}$, then the fixed cost of building the factory (yearly amortized version) is $f_i$ and the yearly capacity of the factory will be $s_i$.\n",
    "The cost of transporting one unit of the product from location $i$ to area $j$ is given as $c_{ij}$.*\n",
    "\n",
    "*Construct an IP whose solution indicates where to build the factories, how many units of product to ship from each factory to each demand area so that the demand is met and the total yearly cost of the company is minimized.*"
   ]
  },
  {
   "cell_type": "markdown",
   "id": "ancient-sitting",
   "metadata": {},
   "source": [
    "Let $x_1, \\cdots, x_m$ be binnary variables indicating which factories were built.\n",
    "Also let $y_{ij}$ ($i = 1, \\cdots, m$, $j = 1, \\cdots, n$) indicates how many products are transported from factory $i$ to area $j$.\n",
    "\n",
    "We want that the transportation that go out of a factory to be satisfied by its production:\n",
    "\n",
    "$$\\sum_{j = 1}^n y_{ij} \\le s_i x_i, \\ \\ \\ \\ i = 1, \\cdots, m$$\n",
    "\n",
    "Note that it is also constrained by the fact of the factory is activated or not.\n",
    "\n",
    "We also want that all areas to have yearly demand met:\n",
    "\n",
    "$$\\sum_{i = 1}^m y_{ij} \\ge d_j, \\ \\ \\ \\ j = 1, \\cdots, n$$\n",
    "\n",
    "And we want to minimize the cost of building and transportation:\n",
    "\n",
    "$$\\text{Minimize} \\ \\sum_{i = 1}^m f_i x_i + \\sum_{i = 1}^m \\sum_{j = 1}^n y_{ij} c_{ij}$$\n",
    "\n",
    "Putting all togheter:\n",
    "\n",
    "$$\\begin{aligned}\n",
    "    & \\text{Minimize} & & \\sum_{i = 1}^m f_i x_i + \\sum_{i = 1}^m \\sum_{j = 1}^n y_{ij} c_{ij} \\\\\n",
    "    & \\text{subject to} & & \\\\\n",
    "    & & & \\sum_{j = 1}^n y_{ij} \\le s_i x_i, \\ \\ \\ \\ i = 1, \\cdots, m \\\\\n",
    "    & & & \\sum_{i = 1}^m y_{ij} \\ge d_j, \\ \\ \\ \\ j = 1, \\cdots, n \\\\\n",
    "    & & & x_1, \\cdots, x_m \\in \\{0, 1\\} \\\\\n",
    "    & & & y_{ij} \\in \\{0\\} \\cup \\mathbb{N} \\ \\ \\ \\ i = 1, \\cdots, m, \\ j = 1, \\cdots, n \\\\\n",
    "\\end{aligned}$$"
   ]
  },
  {
   "cell_type": "markdown",
   "id": "revolutionary-flood",
   "metadata": {},
   "source": [
    "## Reference\n",
    "\n",
    "```bibtex\n",
    "@book{guenin2014gentle,\n",
    "    title={A Gentle Introduction to Optimization},\n",
    "    author={Guenin, B. and K{\\\"o}nemann, J. and Tun{\\c{c}}el, L.},\n",
    "    isbn={9781107053441},\n",
    "    lccn={2014008067},\n",
    "    url={https://books.google.com.br/books?id=JC4DBAAAQBAJ},\n",
    "    year={2014},\n",
    "    publisher={Cambridge University Press}\n",
    "}\n",
    "```"
   ]
  }
 ],
 "metadata": {
  "kernelspec": {
   "display_name": "Julia 1.5.3",
   "language": "julia",
   "name": "julia-1.5"
  },
  "language_info": {
   "file_extension": ".jl",
   "mimetype": "application/julia",
   "name": "julia",
   "version": "1.5.3"
  },
  "toc": {
   "base_numbering": 1,
   "nav_menu": {},
   "number_sections": false,
   "sideBar": true,
   "skip_h1_title": true,
   "title_cell": "Table of Contents",
   "title_sidebar": "Contents",
   "toc_cell": true,
   "toc_position": {},
   "toc_section_display": true,
   "toc_window_display": false
  }
 },
 "nbformat": 4,
 "nbformat_minor": 5
}
