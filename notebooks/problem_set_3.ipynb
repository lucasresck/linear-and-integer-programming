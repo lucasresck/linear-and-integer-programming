{
 "cells": [
  {
   "cell_type": "markdown",
   "id": "turned-woman",
   "metadata": {},
   "source": [
    "# Problem set 3\n",
    "\n",
    "- **Student:** Lucas Emanuel Resck Domingues\n",
    "- **Professor:** Luciano Guimarães\n",
    "- **FGV-EMAp**"
   ]
  },
  {
   "cell_type": "markdown",
   "id": "psychological-schema",
   "metadata": {
    "toc": true
   },
   "source": [
    "<h1>Table of Contents<span class=\"tocSkip\"></span></h1>\n",
    "<div class=\"toc\"><ul class=\"toc-item\"><li><span><a href=\"#Chapter-9---Integer-Programming\" data-toc-modified-id=\"Chapter-9---Integer-Programming-1\">Chapter 9 - Integer Programming</a></span><ul class=\"toc-item\"><li><span><a href=\"#Problem-1\" data-toc-modified-id=\"Problem-1-1.1\">Problem 1</a></span></li></ul></li><li><span><a href=\"#Reference\" data-toc-modified-id=\"Reference-2\">Reference</a></span></li></ul></div>"
   ]
  },
  {
   "cell_type": "markdown",
   "id": "offshore-suffering",
   "metadata": {},
   "source": [
    "## Chapter 9 - Integer Programming"
   ]
  },
  {
   "cell_type": "markdown",
   "id": "first-catering",
   "metadata": {},
   "source": [
    "### Problem 1\n",
    "\n",
    "As the leader of an oil-exploration drilling venture, you must determine the least-cost selection of 5 out of 10 possible sites.\n",
    "Label the sites $S_1, S_2, \\cdots, S_{10}$, and the exploration costs associated with each as $C_1, C_2, \\cdots, C_{10}$.\n",
    "Regional development restrictions are such that:\n",
    "\n",
    "1. Evaluating sites $S_1$ and $S_7$ will prevent you from exploring site $S_8$.\n",
    "2. Evaluating site $S_3$ or $S_4$ prevents you from assessing site $S_5$.\n",
    "3. Of the group $S_5, S_6, S_7, S_8$, only two sites may be assessed.\n",
    "\n",
    "Formulate an integer program to determine the minimum-cost exploration scheme that satisfies these restrictions."
   ]
  },
  {
   "cell_type": "markdown",
   "id": "common-arkansas",
   "metadata": {},
   "source": [
    "**Solution:** Let $S_1, \\cdots, S_{10} \\in \\{0, 1\\}$ indicate if the respective site is selected.\n",
    "We ask that\n",
    "$$\\sum_{i = 1}^{10} S_i = 5$$\n",
    "so that just 5 of the 10 possible sites are selected.\n",
    "Our objective is to minimize the cost:\n",
    "$$\\sum_{i = 1}^{10} C_ i S_i.$$\n",
    "\n",
    "The regional development restrictions can be built this way:\n",
    "- If $S_1$ and $S_7$ are selected, $S_8$ can't: $\\ \\ S_8 \\le 2 - (S_1 + S_7)$\n",
    "- If $S_3$ or $S_4$ is selected, $S_5$ can't: $\\ \\ S_5 \\le 1 - S_3$, $\\ \\ S_5 \\le 1 - S_4$\n",
    "- Only two of $S_5, S_6, S_7, S_8$ can be selected: $S_5 + S_6 + S_7 + S_8 \\le 2$\n",
    "\n",
    "Let's see an example."
   ]
  },
  {
   "cell_type": "code",
   "execution_count": 1,
   "id": "protected-excerpt",
   "metadata": {},
   "outputs": [],
   "source": [
    "using Cbc, JuMP\n",
    "\n",
    "m = Model(with_optimizer(Cbc.Optimizer, logLevel = 0));"
   ]
  },
  {
   "cell_type": "markdown",
   "id": "interstate-animation",
   "metadata": {},
   "source": [
    "Let's consider $C_i = 1$, for simplicity. We create the variables:"
   ]
  },
  {
   "cell_type": "code",
   "execution_count": 2,
   "id": "downtown-huntington",
   "metadata": {},
   "outputs": [
    {
     "data": {
      "text/plain": [
       "10-element Array{VariableRef,1}:\n",
       " S[1]\n",
       " S[2]\n",
       " S[3]\n",
       " S[4]\n",
       " S[5]\n",
       " S[6]\n",
       " S[7]\n",
       " S[8]\n",
       " S[9]\n",
       " S[10]"
      ]
     },
     "execution_count": 2,
     "metadata": {},
     "output_type": "execute_result"
    }
   ],
   "source": [
    "@variable(m, S[1:10], Bin)"
   ]
  },
  {
   "cell_type": "markdown",
   "id": "gross-national",
   "metadata": {},
   "source": [
    "We add the objective:"
   ]
  },
  {
   "cell_type": "code",
   "execution_count": 3,
   "id": "muslim-stations",
   "metadata": {},
   "outputs": [
    {
     "data": {
      "text/latex": [
       "$$ S_{1} + S_{2} + S_{3} + S_{4} + S_{5} + S_{6} + S_{7} + S_{8} + S_{9} + S_{10} $$"
      ],
      "text/plain": [
       "S[1] + S[2] + S[3] + S[4] + S[5] + S[6] + S[7] + S[8] + S[9] + S[10]"
      ]
     },
     "execution_count": 3,
     "metadata": {},
     "output_type": "execute_result"
    }
   ],
   "source": [
    "@objective(m, Min, sum(S))"
   ]
  },
  {
   "cell_type": "markdown",
   "id": "every-purchase",
   "metadata": {},
   "source": [
    "The restrictions:"
   ]
  },
  {
   "cell_type": "code",
   "execution_count": 4,
   "id": "liberal-warner",
   "metadata": {},
   "outputs": [],
   "source": [
    "# Just 5 selected\n",
    "@constraint(m, sum(S) == 5)\n",
    "\n",
    "# Regional restrictions\n",
    "@constraint(m, S[8] ≤ 2 - (S[1] + S[7]))\n",
    "@constraint(m, S[5] ≤ 1 - S[3])\n",
    "@constraint(m, S[5] ≤ 1 - S[4])\n",
    "@constraint(m, S[5] + S[6] + S[7] + S[8] ≤ 2);"
   ]
  },
  {
   "cell_type": "markdown",
   "id": "seeing-still",
   "metadata": {},
   "source": [
    "We optimize it!"
   ]
  },
  {
   "cell_type": "code",
   "execution_count": 5,
   "id": "committed-roberts",
   "metadata": {},
   "outputs": [
    {
     "name": "stdout",
     "output_type": "stream",
     "text": [
      "[0.0, 1.0, 1.0, 0.0, 0.0, 1.0, 0.0, 0.0, 1.0, 1.0]"
     ]
    }
   ],
   "source": [
    "optimize!(m)\n",
    "print(value.(S))"
   ]
  },
  {
   "cell_type": "markdown",
   "id": "legendary-raleigh",
   "metadata": {},
   "source": [
    "It makes sense :)"
   ]
  },
  {
   "cell_type": "markdown",
   "id": "drawn-austria",
   "metadata": {},
   "source": [
    "## Reference\n",
    "\n",
    "```bibtex\n",
    "@book{bradley1977applied,\n",
    "  title={Applied mathematical programming},\n",
    "  author={Bradley, Stephen P and Hax, Arnoldo C and Magnanti, Thomas L},\n",
    "  year={1977},\n",
    "  publisher={Addison-Wesley}\n",
    "}\n",
    "```"
   ]
  }
 ],
 "metadata": {
  "kernelspec": {
   "display_name": "Julia 1.5.3",
   "language": "julia",
   "name": "julia-1.5"
  },
  "language_info": {
   "file_extension": ".jl",
   "mimetype": "application/julia",
   "name": "julia",
   "version": "1.5.3"
  },
  "toc": {
   "base_numbering": 1,
   "nav_menu": {},
   "number_sections": false,
   "sideBar": true,
   "skip_h1_title": true,
   "title_cell": "Table of Contents",
   "title_sidebar": "Contents",
   "toc_cell": true,
   "toc_position": {},
   "toc_section_display": true,
   "toc_window_display": false
  }
 },
 "nbformat": 4,
 "nbformat_minor": 5
}
