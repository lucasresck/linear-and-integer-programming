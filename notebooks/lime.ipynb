{
 "cells": [
  {
   "cell_type": "markdown",
   "id": "surprising-values",
   "metadata": {},
   "source": [
    "# Mixed-Integer Linear Program (MILP) for Local Interpretable Model-agnostic Explanations (LIME)\n",
    "\n",
    "This study aims to formulate (and test) LIME with MILP optimization."
   ]
  },
  {
   "cell_type": "markdown",
   "id": "committed-contrast",
   "metadata": {},
   "source": [
    "TODO:\n",
    "- Pre-process text\n",
    "- Run SVM more"
   ]
  },
  {
   "cell_type": "markdown",
   "id": "attempted-prior",
   "metadata": {
    "toc": true
   },
   "source": [
    "<h1>Table of Contents<span class=\"tocSkip\"></span></h1>\n",
    "<div class=\"toc\"><ul class=\"toc-item\"><li><span><a href=\"#Setup\" data-toc-modified-id=\"Setup-1\">Setup</a></span></li><li><span><a href=\"#Model\" data-toc-modified-id=\"Model-2\">Model</a></span><ul class=\"toc-item\"><li><span><a href=\"#Data\" data-toc-modified-id=\"Data-2.1\">Data</a></span></li><li><span><a href=\"#Classifier\" data-toc-modified-id=\"Classifier-2.2\">Classifier</a></span></li></ul></li><li><span><a href=\"#Optimization\" data-toc-modified-id=\"Optimization-3\">Optimization</a></span><ul class=\"toc-item\"><li><span><a href=\"#LIME\" data-toc-modified-id=\"LIME-3.1\">LIME</a></span></li><li><span><a href=\"#Calculation-of-parameters\" data-toc-modified-id=\"Calculation-of-parameters-3.2\">Calculation of parameters</a></span></li><li><span><a href=\"#Linear-optimization\" data-toc-modified-id=\"Linear-optimization-3.3\">Linear optimization</a></span></li></ul></li><li><span><a href=\"#References\" data-toc-modified-id=\"References-4\">References</a></span></li></ul></div>"
   ]
  },
  {
   "cell_type": "markdown",
   "id": "completed-leone",
   "metadata": {},
   "source": [
    "## Setup"
   ]
  },
  {
   "cell_type": "code",
   "execution_count": null,
   "id": "preliminary-trainer",
   "metadata": {},
   "outputs": [],
   "source": [
    "from IPython.display import HTML\n",
    "from pulp import LpVariable, LpProblem, value, LpStatus, LpMinimize\n",
    "from sklearn.decomposition import TruncatedSVD\n",
    "from sklearn.feature_extraction.text import TfidfVectorizer\n",
    "from sklearn.linear_model import LogisticRegressionCV\n",
    "from sklearn.model_selection import GridSearchCV, train_test_split\n",
    "from sklearn.pipeline import Pipeline\n",
    "from sklearn.preprocessing import StandardScaler\n",
    "from sklearn.svm import SVC\n",
    "import numpy as np\n",
    "import pandas as pd"
   ]
  },
  {
   "cell_type": "code",
   "execution_count": null,
   "id": "secondary-fellow",
   "metadata": {},
   "outputs": [],
   "source": [
    "%config Completer.use_jedi = False"
   ]
  },
  {
   "cell_type": "markdown",
   "id": "cheap-cross",
   "metadata": {},
   "source": [
    "## Model"
   ]
  },
  {
   "cell_type": "markdown",
   "id": "intimate-teaching",
   "metadata": {},
   "source": [
    "### Data"
   ]
  },
  {
   "cell_type": "code",
   "execution_count": null,
   "id": "known-pledge",
   "metadata": {},
   "outputs": [],
   "source": [
    "df = pd.read_csv('../data/IMDB Dataset.csv')\n",
    "df"
   ]
  },
  {
   "cell_type": "code",
   "execution_count": null,
   "id": "congressional-cambridge",
   "metadata": {},
   "outputs": [],
   "source": [
    "df.review = df.review.apply(lambda x: x.replace('<br />', ''))"
   ]
  },
  {
   "cell_type": "code",
   "execution_count": null,
   "id": "binary-criminal",
   "metadata": {},
   "outputs": [],
   "source": [
    "X = df.review.to_list()\n",
    "y = df.sentiment.to_list()"
   ]
  },
  {
   "cell_type": "code",
   "execution_count": null,
   "id": "spatial-messenger",
   "metadata": {},
   "outputs": [],
   "source": [
    "X_train, X_test, y_train, y_test = train_test_split(\n",
    "    X,\n",
    "    y,\n",
    "    test_size=0.2,\n",
    "    random_state=42,\n",
    "    stratify=y\n",
    ")"
   ]
  },
  {
   "cell_type": "markdown",
   "id": "union-google",
   "metadata": {},
   "source": [
    "### Classifier"
   ]
  },
  {
   "cell_type": "code",
   "execution_count": null,
   "id": "veterinary-injection",
   "metadata": {},
   "outputs": [],
   "source": [
    "tf_idf = TfidfVectorizer(\n",
    "    strip_accents=None,\n",
    "    lowercase=True,\n",
    "    smooth_idf=True,\n",
    ")\n",
    "X_train = tf_idf.fit_transform(X_train)\n",
    "X_train.shape"
   ]
  },
  {
   "cell_type": "code",
   "execution_count": null,
   "id": "damaged-history",
   "metadata": {},
   "outputs": [],
   "source": [
    "t_svd = TruncatedSVD(n_components=50, random_state=42)\n",
    "X_train = t_svd.fit_transform(X_train)\n",
    "X_train.shape"
   ]
  },
  {
   "cell_type": "code",
   "execution_count": null,
   "id": "quantitative-honduras",
   "metadata": {},
   "outputs": [],
   "source": [
    "scaler = StandardScaler()\n",
    "X_train = scaler.fit_transform(X_train)"
   ]
  },
  {
   "cell_type": "code",
   "execution_count": null,
   "id": "falling-nigeria",
   "metadata": {},
   "outputs": [],
   "source": [
    "svc = SVC(\n",
    "    shrinking=True,\n",
    "    probability=True,\n",
    "    tol=0.001,\n",
    "    cache_size=200,\n",
    "    verbose=True,\n",
    "    max_iter=-1,\n",
    "    decision_function_shape='ovr',\n",
    "    random_state=42,\n",
    ")\n",
    "\n",
    "svm = GridSearchCV(\n",
    "    svc,\n",
    "    param_grid={'C': [1, 10], 'kernel': ['linear']},\n",
    "    n_jobs=4,\n",
    "    cv=5,\n",
    "    verbose=3\n",
    ")"
   ]
  },
  {
   "cell_type": "code",
   "execution_count": null,
   "id": "instrumental-ceramic",
   "metadata": {},
   "outputs": [],
   "source": [
    "%%time\n",
    "svm.fit(X_train[:500], y_train[:500])"
   ]
  },
  {
   "cell_type": "code",
   "execution_count": null,
   "id": "least-boundary",
   "metadata": {},
   "outputs": [],
   "source": [
    "vector = Pipeline([\n",
    "    ('tf_idf', tf_idf),\n",
    "    ('t_svd', t_svd)\n",
    "])"
   ]
  },
  {
   "cell_type": "code",
   "execution_count": null,
   "id": "aging-remainder",
   "metadata": {},
   "outputs": [],
   "source": [
    "model = Pipeline([\n",
    "    ('tf_idf', tf_idf),\n",
    "    ('t_svd', t_svd),\n",
    "    ('scaler', scaler),\n",
    "    ('svm', svm)\n",
    "])"
   ]
  },
  {
   "cell_type": "code",
   "execution_count": null,
   "id": "demonstrated-dominican",
   "metadata": {},
   "outputs": [],
   "source": [
    "model.score(X_test, y_test)"
   ]
  },
  {
   "cell_type": "markdown",
   "id": "proprietary-purse",
   "metadata": {},
   "source": [
    "## Optimization"
   ]
  },
  {
   "cell_type": "markdown",
   "id": "registered-design",
   "metadata": {},
   "source": [
    "### LIME"
   ]
  },
  {
   "cell_type": "markdown",
   "id": "silver-failure",
   "metadata": {},
   "source": [
    "### Calculation of parameters"
   ]
  },
  {
   "cell_type": "code",
   "execution_count": null,
   "id": "shared-crisis",
   "metadata": {},
   "outputs": [],
   "source": [
    "example = 'This movie is awful, I regret seing it, it is a bad movie.'\n",
    "example"
   ]
  },
  {
   "cell_type": "code",
   "execution_count": null,
   "id": "reduced-programmer",
   "metadata": {},
   "outputs": [],
   "source": [
    "model.predict([example])"
   ]
  },
  {
   "cell_type": "code",
   "execution_count": null,
   "id": "rotary-reality",
   "metadata": {},
   "outputs": [],
   "source": [
    "model.predict_proba([example])"
   ]
  },
  {
   "cell_type": "code",
   "execution_count": null,
   "id": "indian-species",
   "metadata": {},
   "outputs": [],
   "source": [
    "model.classes_"
   ]
  },
  {
   "cell_type": "code",
   "execution_count": null,
   "id": "paperback-patent",
   "metadata": {},
   "outputs": [],
   "source": [
    "def f(text):\n",
    "    '''Probability of a text'''\n",
    "    return model.predict_proba([text])[0]"
   ]
  },
  {
   "cell_type": "code",
   "execution_count": null,
   "id": "biblical-shelter",
   "metadata": {},
   "outputs": [],
   "source": [
    "def pi(x, z, sigma=0.5):\n",
    "    '''Weights of locallity.'''\n",
    "    x = vector.transform([x])[0]\n",
    "    z = vector.transform([z])[0]\n",
    "    # If null vector\n",
    "    if np.abs(z).sum() == 0:\n",
    "        return 0\n",
    "    # Cosine of angle between vectors\n",
    "    cos = np.dot(x, z)/(np.linalg.norm(x)*np.linalg.norm(z))\n",
    "    # If cosine is like 1.00008\n",
    "    if cos > 1:\n",
    "        cos = 1\n",
    "    # Angle between vectors, normalized to between 0 and 1\n",
    "    D = np.arccos(cos)*2/np.pi\n",
    "    return np.exp(-D**2/sigma**2)"
   ]
  },
  {
   "cell_type": "code",
   "execution_count": null,
   "id": "strong-brooklyn",
   "metadata": {},
   "outputs": [],
   "source": [
    "def parameters(split, which_class, M, N, K):\n",
    "    '''Return the parameters for LIME optimization.'''\n",
    "    # Perturbations\n",
    "    z_line = []\n",
    "    # Probabilities\n",
    "    f_z = []\n",
    "    # Weights\n",
    "    pi_x = []\n",
    "    \n",
    "    for i in range(N):\n",
    "        # Choose a random number of words to remove, between 1 and (split - 1)\n",
    "        n = np.random.choice(range(1, M))\n",
    "        # Remove n random words\n",
    "        indices = np.random.choice(range(M), size=n, replace=False)\n",
    "        \n",
    "        # The pertubartion\n",
    "        perturbation = np.ones(M)\n",
    "        for index in indices:\n",
    "            perturbation[index] = 0\n",
    "        z_line.append(perturbation)\n",
    "            \n",
    "        # The probability and weight\n",
    "        text = ' '.join([word for (j, word) in enumerate(split) if perturbation[j]])\n",
    "        f_z.append(f(text)[which_class])\n",
    "        pi_x.append(pi(example, text))\n",
    "    \n",
    "    return z_line, f_z, pi_x"
   ]
  },
  {
   "cell_type": "markdown",
   "id": "systematic-transcription",
   "metadata": {},
   "source": [
    "### Linear optimization"
   ]
  },
  {
   "cell_type": "code",
   "execution_count": null,
   "id": "stretch-thought",
   "metadata": {},
   "outputs": [],
   "source": [
    "def optimization(z_line, f_z, pi_x, M, N, K):\n",
    "    '''The MILP for LIME.'''\n",
    "    prob = LpProblem(\"LIME\", LpMinimize)\n",
    "    \n",
    "    # Variables\n",
    "    L = LpVariable('L')\n",
    "    epsilon = [LpVariable('epsilon_{}'.format(i)) for i in range(N)]\n",
    "    g = [LpVariable(\"g(z'_{})\".format(i)) for i in range(N)]\n",
    "    x = [LpVariable('x_{}'.format(j)) for j in range(M)]\n",
    "    y = [LpVariable('y_{}'.format(j), 0, 1, cat='Integer') for j in range(M)]\n",
    "    \n",
    "    # Objective\n",
    "    prob += L\n",
    "    \n",
    "    # Constraints\n",
    "    prob += L == sum([pi_x[i]*epsilon[i] for i in range(N)])\n",
    "\n",
    "    for i in range(N):\n",
    "        prob += -epsilon[i] <= f_z[i] - g[i]\n",
    "        prob += epsilon[i] >= f_z[i] - g[i]\n",
    "        prob += g[i] == sum([z_line[i][j]*x[j] for j in range(M)])\n",
    "\n",
    "    infinity = 100000\n",
    "    for j in range(M):\n",
    "        prob += -infinity*y[j] <= x[j]\n",
    "        prob += infinity*y[j] >= x[j]\n",
    "\n",
    "    prob += sum(y) <= K\n",
    "\n",
    "    print('Solving MILP...')\n",
    "    status = prob.solve()\n",
    "    print('Done.')\n",
    "    \n",
    "    return prob, status, x"
   ]
  },
  {
   "cell_type": "code",
   "execution_count": null,
   "id": "opened-appliance",
   "metadata": {},
   "outputs": [],
   "source": [
    "def visualize(split, importances):\n",
    "    '''Visualize the importance of each word in the classification.'''\n",
    "    max_abs_importance = np.max(np.abs(importances))\n",
    "    # Green\n",
    "    positive = np.array([0, 255, 0])\n",
    "    white = np.array([255, 255, 255])\n",
    "    # Red\n",
    "    negative = np.array([255, 0, 0])\n",
    "    spans = []\n",
    "    for i, word in enumerate(split):\n",
    "        if importances[i] >= 0:\n",
    "            color = white + (positive - white)/max_abs_importance*importances[i]\n",
    "        else:\n",
    "            color = white + (negative - white)/(-1)*max_abs_importance*importances[i]\n",
    "        spans.append(\n",
    "            '<span style=\"background-color: RGB({R}, {G}, {B})\">{word}</span>'.format(\n",
    "                word=word,\n",
    "                R=color[0],\n",
    "                G=color[1],\n",
    "                B=color[2]\n",
    "            )\n",
    "        )\n",
    "            \n",
    "    html = ' '.join(spans)\n",
    "    return HTML(html)"
   ]
  },
  {
   "cell_type": "code",
   "execution_count": null,
   "id": "funded-september",
   "metadata": {},
   "outputs": [],
   "source": [
    "def lime(text, which_class, N=None, K=None):\n",
    "    # Split \n",
    "    split = text.split()\n",
    "    M = len(split)\n",
    "    if N is None:\n",
    "        N = 3*M\n",
    "    if K is None:\n",
    "        K = min([M, 20])\n",
    "                \n",
    "    z_line, f_z, pi_x = parameters(split, which_class, M, N, K)\n",
    "        \n",
    "    prob, status, x = optimization(z_line, f_z, pi_x, M, N, K)\n",
    "    \n",
    "    importances = [value(i) for i in x]    \n",
    "    print(dict(zip(split, importances)))    \n",
    "    \n",
    "    return visualize(split, importances)"
   ]
  },
  {
   "cell_type": "code",
   "execution_count": null,
   "id": "entitled-drill",
   "metadata": {},
   "outputs": [],
   "source": [
    "lime(example, 0, K=1000)"
   ]
  },
  {
   "cell_type": "code",
   "execution_count": null,
   "id": "atomic-ranking",
   "metadata": {},
   "outputs": [],
   "source": [
    "lime(X_test[5], 0, N=30)"
   ]
  },
  {
   "cell_type": "markdown",
   "id": "junior-provider",
   "metadata": {},
   "source": [
    "## References\n",
    "\n",
    "- https://arxiv.org/pdf/1602.04938.pdf\n",
    "- https://www.kaggle.com/lakshmi25npathi/imdb-dataset-of-50k-movie-reviews\n",
    "- https://vanderbei.princeton.edu/tex/talks/MOPTA14/L1_reg.pdf"
   ]
  }
 ],
 "metadata": {
  "kernelspec": {
   "display_name": "Python 3",
   "language": "python",
   "name": "python3"
  },
  "language_info": {
   "codemirror_mode": {
    "name": "ipython",
    "version": 3
   },
   "file_extension": ".py",
   "mimetype": "text/x-python",
   "name": "python",
   "nbconvert_exporter": "python",
   "pygments_lexer": "ipython3",
   "version": "3.8.8"
  },
  "toc": {
   "base_numbering": 1,
   "nav_menu": {},
   "number_sections": false,
   "sideBar": true,
   "skip_h1_title": true,
   "title_cell": "Table of Contents",
   "title_sidebar": "Contents",
   "toc_cell": true,
   "toc_position": {},
   "toc_section_display": true,
   "toc_window_display": false
  }
 },
 "nbformat": 4,
 "nbformat_minor": 5
}
